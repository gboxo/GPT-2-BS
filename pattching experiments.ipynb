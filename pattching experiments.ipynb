{
 "cells": [
  {
   "attachments": {},
   "cell_type": "markdown",
   "metadata": {},
   "source": [
    "## Patching Experiments"
   ]
  },
  {
   "attachments": {},
   "cell_type": "markdown",
   "metadata": {},
   "source": [
    "### Load the dataset"
   ]
  },
  {
   "cell_type": "code",
   "execution_count": 1,
   "metadata": {},
   "outputs": [],
   "source": [
    "import json\n",
    "with open('l1.json', 'r') as f:\n",
    "    l1_dict=json.load(f)\n",
    "l1=list(l1_dict.keys())\n",
    "neg_adj=list(l1_dict.values())\n",
    "with open('l2.json', 'r') as f:\n",
    "    l2_dict=json.load(f)\n",
    "l2=list(l2_dict.keys())\n",
    "with open('l3.json', 'r') as f:\n",
    "    l3_dict=json.load(f)\n",
    "l3=list(l3_dict.keys())\n",
    "pos_adj=list(l3_dict.values())\n",
    "with open('l4.json', 'r') as f:\n",
    "    l4_dict=json.load(f)\n",
    "l4=list(l4_dict.keys())\n",
    "with open('l5.json', 'r') as f:\n",
    "    l5_dict=json.load(f)\n",
    "l5=list(l5_dict.keys())\n"
   ]
  },
  {
   "attachments": {},
   "cell_type": "markdown",
   "metadata": {},
   "source": [
    "### Setting everything up for Trasnformer lens library"
   ]
  },
  {
   "cell_type": "code",
   "execution_count": 2,
   "metadata": {},
   "outputs": [
    {
     "name": "stdout",
     "output_type": "stream",
     "text": [
      "Running as a Jupyter notebook - intended for development only!\n"
     ]
    },
    {
     "name": "stderr",
     "output_type": "stream",
     "text": [
      "/tmp/ipykernel_32938/1326878066.py:9: DeprecationWarning: `magic(...)` is deprecated since IPython 0.13 (warning added in 8.1), use run_line_magic(magic_name, parameter_s).\n",
      "  ipython.magic(\"load_ext autoreload\")\n",
      "/tmp/ipykernel_32938/1326878066.py:10: DeprecationWarning: `magic(...)` is deprecated since IPython 0.13 (warning added in 8.1), use run_line_magic(magic_name, parameter_s).\n",
      "  ipython.magic(\"autoreload 2\")\n",
      "Using pad_token, but it is not set yet.\n"
     ]
    },
    {
     "name": "stdout",
     "output_type": "stream",
     "text": [
      "Loaded pretrained model gpt2-small into HookedTransformer\n",
      "Clean string 0 <|endoftext|>The day is bright but the night is\n"
     ]
    }
   ],
   "source": [
    "# Plotly needs a different renderer for VSCode/Notebooks vs Colab argh\n",
    "import plotly.io as pio\n",
    "DEBUG_MODE = False\n",
    "IN_COLAB = False\n",
    "print(\"Running as a Jupyter notebook - intended for development only!\")\n",
    "from IPython import get_ipython\n",
    "ipython = get_ipython()\n",
    "# Code to automatically update the HookedTransformer code as its edited without restarting the kernel\n",
    "ipython.magic(\"load_ext autoreload\")\n",
    "ipython.magic(\"autoreload 2\")\n",
    "\n",
    "pio.renderers.default = \"vscode\"\n",
    "import torch\n",
    "import torch.nn as nn\n",
    "import torch.nn.functional as F\n",
    "import torch.optim as optim\n",
    "import numpy as np\n",
    "import einops\n",
    "from fancy_einsum import einsum\n",
    "import tqdm.notebook as tqdm\n",
    "import random\n",
    "from pathlib import Path\n",
    "import plotly.express as px\n",
    "from torch.utils.data import DataLoader\n",
    "from jaxtyping import Float, Int\n",
    "\n",
    "from typing import List, Union, Optional\n",
    "from functools import partial\n",
    "import copy\n",
    "\n",
    "import itertools\n",
    "from transformers import AutoModelForCausalLM, AutoConfig, AutoTokenizer\n",
    "import dataclasses\n",
    "import datasets\n",
    "from IPython.display import HTML\n",
    "import transformer_lens\n",
    "import transformer_lens.utils as utils\n",
    "from transformer_lens.hook_points import (\n",
    "    HookedRootModule,\n",
    "    HookPoint,\n",
    ")  # Hooking utilities\n",
    "from transformer_lens import HookedTransformer, HookedTransformerConfig, FactoredMatrix, ActivationCache\n",
    "torch.set_grad_enabled(False)\n",
    "from neel_plotly import line, imshow, scatter\n",
    "import transformer_lens.patching as patching\n",
    "model = HookedTransformer.from_pretrained(\"gpt2-small\")\n",
    "prompts = ['The day is bright but the night is']\n",
    "not_id=model.to_single_token(\" not\")\n",
    "bright_id=model.to_single_token(\" bright\")\n",
    "clean_tokens = model.to_tokens(prompts)\n",
    "print(\"Clean string 0\", model.to_string(clean_tokens[0]))\n",
    "logits,cache=model.run_with_cache(clean_tokens)\n",
    "id=logits[...,-1,:].argmax()\n",
    "model.to_string(id)\n",
    "\n",
    "import plotly.io as pio\n",
    "pio.renderers.default = \"vscode\"\n",
    "\n",
    "\n",
    "def imshow(tensor, renderer=None, xaxis=\"\", yaxis=\"\", **kwargs):\n",
    "    px.imshow(utils.to_numpy(tensor), color_continuous_midpoint=0.0, color_continuous_scale=\"RdBu\", labels={\"x\":xaxis, \"y\":yaxis}, **kwargs).show(renderer)\n",
    "\n",
    "def line(tensor, renderer=None, xaxis=\"\", yaxis=\"\", **kwargs):\n",
    "    px.line(utils.to_numpy(tensor), labels={\"x\":xaxis, \"y\":yaxis}, **kwargs).show(renderer)\n",
    "\n",
    "\n",
    "def scatter(x, y, xaxis=\"\", yaxis=\"\", caxis=\"\", renderer=None, **kwargs):\n",
    "    x = utils.to_numpy(x)\n",
    "    y = utils.to_numpy(y)\n",
    "    px.scatter(y=y, x=x, labels={\"x\":xaxis, \"y\":yaxis, \"color\":caxis}, **kwargs).show(renderer)"
   ]
  },
  {
   "attachments": {},
   "cell_type": "markdown",
   "metadata": {},
   "source": [
    "# Activation Patching"
   ]
  },
  {
   "cell_type": "code",
   "execution_count": 10,
   "metadata": {},
   "outputs": [],
   "source": [
    "import transformer_lens.patching as patching\n",
    "clean_tokens=model.to_tokens(l1)\n",
    "clean_tokens.shape\n",
    "corrupted_tokens=model.to_tokens(l5)\n",
    "answers=[(i,j) for i,j in zip(neg_adj,pos_adj)]\n",
    "answer_token_indices = torch.tensor([[model.to_single_token(\" \"+answers[i][j]) for j in range(2)] for i in range(len(answers))], device=model.cfg.device)\n",
    "l5=[i.replace(\"but\",\"and\") for i in l1]\n",
    "\n",
    "\n",
    "def get_logit_diff(logits, answer_token_indices=answer_token_indices):\n",
    "    if len(logits.shape)==3:\n",
    "        # Get final logits only\n",
    "        logits = logits[:, -2, :]\n",
    "    correct_logits = logits.gather(1, answer_token_indices[:, 0].unsqueeze(1))\n",
    "    incorrect_logits = logits.gather(1, answer_token_indices[:, 1].unsqueeze(1))\n",
    "    return (correct_logits - incorrect_logits).mean()\n",
    "#The l1 dataset has te answer positive adjective\n",
    "#The l5 dataset has te answer positive adjective\n",
    "clean_logits, clean_cache = model.run_with_cache(clean_tokens)\n",
    "corrupted_logits, corrupted_cache = model.run_with_cache(corrupted_tokens)\n",
    "clean_logit_diff = get_logit_diff(clean_logits, answer_token_indices).item()\n",
    "corrupted_logit_diff = get_logit_diff(corrupted_logits, answer_token_indices).item()"
   ]
  },
  {
   "cell_type": "code",
   "execution_count": 9,
   "metadata": {},
   "outputs": [
    {
     "data": {
      "text/plain": [
       "['The day is bright and the night is',\n",
       " 'The summer is hot and the winter is',\n",
       " 'The victory is sweet and the defeat is',\n",
       " 'The fire is warm and the watter is',\n",
       " 'The war is bad and the peace is',\n",
       " 'The man is strong and the woman is',\n",
       " 'The king is good and the queen is']"
      ]
     },
     "execution_count": 9,
     "metadata": {},
     "output_type": "execute_result"
    }
   ],
   "source": [
    "l5=[i.replace(\"but\",\"and\") for i in l1]\n"
   ]
  },
  {
   "cell_type": "code",
   "execution_count": 11,
   "metadata": {},
   "outputs": [
    {
     "data": {
      "text/plain": [
       "tensor([ 3223,  4692, 12922,   318,   922,  4939,  2089])"
      ]
     },
     "execution_count": 11,
     "metadata": {},
     "output_type": "execute_result"
    }
   ],
   "source": [
    "clean_tokens=model.to_tokens(l1)\n",
    "clean_logits, clean_cache = model.run_with_cache(clean_tokens)\n",
    "clean_logits[:, -2, :].argmax(dim=-1)\n"
   ]
  },
  {
   "cell_type": "code",
   "execution_count": 12,
   "metadata": {},
   "outputs": [
    {
     "data": {
      "application/vnd.jupyter.widget-view+json": {
       "model_id": "fc6e421bf4a84df9bea977604bc9e2ca",
       "version_major": 2,
       "version_minor": 0
      },
      "text/plain": [
       "  0%|          | 0/108 [00:00<?, ?it/s]"
      ]
     },
     "metadata": {},
     "output_type": "display_data"
    }
   ],
   "source": [
    "CLEAN_BASELINE = clean_logit_diff\n",
    "CORRUPTED_BASELINE = corrupted_logit_diff\n",
    "def sb_metric(logits, answer_token_indices=answer_token_indices):\n",
    "    return (get_logit_diff(logits, answer_token_indices) - CORRUPTED_BASELINE) / (CLEAN_BASELINE  - CORRUPTED_BASELINE)\n",
    "\n",
    "resid_act_mlp_out_results = patching.get_act_patch_mlp_out(model, corrupted_tokens, clean_cache, sb_metric)"
   ]
  },
  {
   "cell_type": "code",
   "execution_count": 13,
   "metadata": {},
   "outputs": [
    {
     "data": {
      "application/vnd.plotly.v1+json": {
       "config": {
        "plotlyServerURL": "https://plot.ly"
       },
       "data": [
        {
         "coloraxis": "coloraxis",
         "hovertemplate": "Position: %{x}<br>Layer: %{y}<br>color: %{z}<extra></extra>",
         "name": "0",
         "type": "heatmap",
         "x": [
          "The 0",
          " day 1",
          " is 2",
          " bright 3",
          " but 4",
          " the 5",
          " night 6",
          " is 7"
         ],
         "xaxis": "x",
         "yaxis": "y",
         "z": [
          [
           0,
           0.1356756091117859,
           0.0008184121106751263,
           0.0015712943859398365,
           -0.0012865731259807944,
           -0.0011644609039649367,
           0.3453183174133301,
           0
          ],
          [
           0,
           0.015504444018006325,
           -0.004003007430583239,
           0.005160134751349688,
           0.0004945307737216353,
           -0.0003942408657167107,
           -0.04873251914978027,
           0
          ],
          [
           0,
           0.0051804035902023315,
           -0.00027379312086850405,
           -0.0006635565659962595,
           0.0022482951171696186,
           0.0012431334471330047,
           -0.03851623460650444,
           0
          ],
          [
           0,
           -0.005529308691620827,
           -0.002326726447790861,
           -0.010108289308845997,
           -0.006047007627785206,
           0.003930156119167805,
           0.004762673284858465,
           0
          ],
          [
           0,
           0.0018359010573476553,
           0.006774183828383684,
           -0.0033016586676239967,
           -0.0026046326383948326,
           -0.004356665071099997,
           -0.023882832378149033,
           0
          ],
          [
           0,
           0.021870611235499382,
           0.004733669571578503,
           -0.03844809532165527,
           -0.014098457992076874,
           -0.0011998167028650641,
           -0.01925554871559143,
           0
          ],
          [
           0,
           0.005853773560374975,
           -0.006444910541176796,
           0.008850309997797012,
           -0.013533313758671284,
           -0.0015557127771899104,
           0.019243251532316208,
           0
          ],
          [
           0,
           -0.005163960624486208,
           -0.0008297695894725621,
           -0.0019894225988537073,
           -0.009737294167280197,
           -0.010712102986872196,
           0.08075499534606934,
           0
          ],
          [
           0,
           -0.0003988847020082176,
           0.0041780113242566586,
           0.0005107081960886717,
           -0.011193059384822845,
           0.03407663106918335,
           0.20089906454086304,
           0
          ],
          [
           0,
           -0.004166089463979006,
           -0.0035233322996646166,
           0.009575632400810719,
           -0.006258327513933182,
           0.0007186625734902918,
           0.3254004716873169,
           0
          ],
          [
           0,
           0.001794446725398302,
           -0.0023710152599960566,
           0.0021165430080145597,
           -0.0023056399077177048,
           -0.0017170961946249008,
           0.04746484011411667,
           0
          ],
          [
           0,
           0,
           0,
           0,
           0,
           0,
           0.05858081206679344,
           0
          ]
         ]
        }
       ],
       "layout": {
        "coloraxis": {
         "cmid": 0,
         "colorscale": [
          [
           0,
           "rgb(103,0,31)"
          ],
          [
           0.1,
           "rgb(178,24,43)"
          ],
          [
           0.2,
           "rgb(214,96,77)"
          ],
          [
           0.3,
           "rgb(244,165,130)"
          ],
          [
           0.4,
           "rgb(253,219,199)"
          ],
          [
           0.5,
           "rgb(247,247,247)"
          ],
          [
           0.6,
           "rgb(209,229,240)"
          ],
          [
           0.7,
           "rgb(146,197,222)"
          ],
          [
           0.8,
           "rgb(67,147,195)"
          ],
          [
           0.9,
           "rgb(33,102,172)"
          ],
          [
           1,
           "rgb(5,48,97)"
          ]
         ]
        },
        "template": {
         "data": {
          "bar": [
           {
            "error_x": {
             "color": "#2a3f5f"
            },
            "error_y": {
             "color": "#2a3f5f"
            },
            "marker": {
             "line": {
              "color": "#E5ECF6",
              "width": 0.5
             },
             "pattern": {
              "fillmode": "overlay",
              "size": 10,
              "solidity": 0.2
             }
            },
            "type": "bar"
           }
          ],
          "barpolar": [
           {
            "marker": {
             "line": {
              "color": "#E5ECF6",
              "width": 0.5
             },
             "pattern": {
              "fillmode": "overlay",
              "size": 10,
              "solidity": 0.2
             }
            },
            "type": "barpolar"
           }
          ],
          "carpet": [
           {
            "aaxis": {
             "endlinecolor": "#2a3f5f",
             "gridcolor": "white",
             "linecolor": "white",
             "minorgridcolor": "white",
             "startlinecolor": "#2a3f5f"
            },
            "baxis": {
             "endlinecolor": "#2a3f5f",
             "gridcolor": "white",
             "linecolor": "white",
             "minorgridcolor": "white",
             "startlinecolor": "#2a3f5f"
            },
            "type": "carpet"
           }
          ],
          "choropleth": [
           {
            "colorbar": {
             "outlinewidth": 0,
             "ticks": ""
            },
            "type": "choropleth"
           }
          ],
          "contour": [
           {
            "colorbar": {
             "outlinewidth": 0,
             "ticks": ""
            },
            "colorscale": [
             [
              0,
              "#0d0887"
             ],
             [
              0.1111111111111111,
              "#46039f"
             ],
             [
              0.2222222222222222,
              "#7201a8"
             ],
             [
              0.3333333333333333,
              "#9c179e"
             ],
             [
              0.4444444444444444,
              "#bd3786"
             ],
             [
              0.5555555555555556,
              "#d8576b"
             ],
             [
              0.6666666666666666,
              "#ed7953"
             ],
             [
              0.7777777777777778,
              "#fb9f3a"
             ],
             [
              0.8888888888888888,
              "#fdca26"
             ],
             [
              1,
              "#f0f921"
             ]
            ],
            "type": "contour"
           }
          ],
          "contourcarpet": [
           {
            "colorbar": {
             "outlinewidth": 0,
             "ticks": ""
            },
            "type": "contourcarpet"
           }
          ],
          "heatmap": [
           {
            "colorbar": {
             "outlinewidth": 0,
             "ticks": ""
            },
            "colorscale": [
             [
              0,
              "#0d0887"
             ],
             [
              0.1111111111111111,
              "#46039f"
             ],
             [
              0.2222222222222222,
              "#7201a8"
             ],
             [
              0.3333333333333333,
              "#9c179e"
             ],
             [
              0.4444444444444444,
              "#bd3786"
             ],
             [
              0.5555555555555556,
              "#d8576b"
             ],
             [
              0.6666666666666666,
              "#ed7953"
             ],
             [
              0.7777777777777778,
              "#fb9f3a"
             ],
             [
              0.8888888888888888,
              "#fdca26"
             ],
             [
              1,
              "#f0f921"
             ]
            ],
            "type": "heatmap"
           }
          ],
          "heatmapgl": [
           {
            "colorbar": {
             "outlinewidth": 0,
             "ticks": ""
            },
            "colorscale": [
             [
              0,
              "#0d0887"
             ],
             [
              0.1111111111111111,
              "#46039f"
             ],
             [
              0.2222222222222222,
              "#7201a8"
             ],
             [
              0.3333333333333333,
              "#9c179e"
             ],
             [
              0.4444444444444444,
              "#bd3786"
             ],
             [
              0.5555555555555556,
              "#d8576b"
             ],
             [
              0.6666666666666666,
              "#ed7953"
             ],
             [
              0.7777777777777778,
              "#fb9f3a"
             ],
             [
              0.8888888888888888,
              "#fdca26"
             ],
             [
              1,
              "#f0f921"
             ]
            ],
            "type": "heatmapgl"
           }
          ],
          "histogram": [
           {
            "marker": {
             "pattern": {
              "fillmode": "overlay",
              "size": 10,
              "solidity": 0.2
             }
            },
            "type": "histogram"
           }
          ],
          "histogram2d": [
           {
            "colorbar": {
             "outlinewidth": 0,
             "ticks": ""
            },
            "colorscale": [
             [
              0,
              "#0d0887"
             ],
             [
              0.1111111111111111,
              "#46039f"
             ],
             [
              0.2222222222222222,
              "#7201a8"
             ],
             [
              0.3333333333333333,
              "#9c179e"
             ],
             [
              0.4444444444444444,
              "#bd3786"
             ],
             [
              0.5555555555555556,
              "#d8576b"
             ],
             [
              0.6666666666666666,
              "#ed7953"
             ],
             [
              0.7777777777777778,
              "#fb9f3a"
             ],
             [
              0.8888888888888888,
              "#fdca26"
             ],
             [
              1,
              "#f0f921"
             ]
            ],
            "type": "histogram2d"
           }
          ],
          "histogram2dcontour": [
           {
            "colorbar": {
             "outlinewidth": 0,
             "ticks": ""
            },
            "colorscale": [
             [
              0,
              "#0d0887"
             ],
             [
              0.1111111111111111,
              "#46039f"
             ],
             [
              0.2222222222222222,
              "#7201a8"
             ],
             [
              0.3333333333333333,
              "#9c179e"
             ],
             [
              0.4444444444444444,
              "#bd3786"
             ],
             [
              0.5555555555555556,
              "#d8576b"
             ],
             [
              0.6666666666666666,
              "#ed7953"
             ],
             [
              0.7777777777777778,
              "#fb9f3a"
             ],
             [
              0.8888888888888888,
              "#fdca26"
             ],
             [
              1,
              "#f0f921"
             ]
            ],
            "type": "histogram2dcontour"
           }
          ],
          "mesh3d": [
           {
            "colorbar": {
             "outlinewidth": 0,
             "ticks": ""
            },
            "type": "mesh3d"
           }
          ],
          "parcoords": [
           {
            "line": {
             "colorbar": {
              "outlinewidth": 0,
              "ticks": ""
             }
            },
            "type": "parcoords"
           }
          ],
          "pie": [
           {
            "automargin": true,
            "type": "pie"
           }
          ],
          "scatter": [
           {
            "fillpattern": {
             "fillmode": "overlay",
             "size": 10,
             "solidity": 0.2
            },
            "type": "scatter"
           }
          ],
          "scatter3d": [
           {
            "line": {
             "colorbar": {
              "outlinewidth": 0,
              "ticks": ""
             }
            },
            "marker": {
             "colorbar": {
              "outlinewidth": 0,
              "ticks": ""
             }
            },
            "type": "scatter3d"
           }
          ],
          "scattercarpet": [
           {
            "marker": {
             "colorbar": {
              "outlinewidth": 0,
              "ticks": ""
             }
            },
            "type": "scattercarpet"
           }
          ],
          "scattergeo": [
           {
            "marker": {
             "colorbar": {
              "outlinewidth": 0,
              "ticks": ""
             }
            },
            "type": "scattergeo"
           }
          ],
          "scattergl": [
           {
            "marker": {
             "colorbar": {
              "outlinewidth": 0,
              "ticks": ""
             }
            },
            "type": "scattergl"
           }
          ],
          "scattermapbox": [
           {
            "marker": {
             "colorbar": {
              "outlinewidth": 0,
              "ticks": ""
             }
            },
            "type": "scattermapbox"
           }
          ],
          "scatterpolar": [
           {
            "marker": {
             "colorbar": {
              "outlinewidth": 0,
              "ticks": ""
             }
            },
            "type": "scatterpolar"
           }
          ],
          "scatterpolargl": [
           {
            "marker": {
             "colorbar": {
              "outlinewidth": 0,
              "ticks": ""
             }
            },
            "type": "scatterpolargl"
           }
          ],
          "scatterternary": [
           {
            "marker": {
             "colorbar": {
              "outlinewidth": 0,
              "ticks": ""
             }
            },
            "type": "scatterternary"
           }
          ],
          "surface": [
           {
            "colorbar": {
             "outlinewidth": 0,
             "ticks": ""
            },
            "colorscale": [
             [
              0,
              "#0d0887"
             ],
             [
              0.1111111111111111,
              "#46039f"
             ],
             [
              0.2222222222222222,
              "#7201a8"
             ],
             [
              0.3333333333333333,
              "#9c179e"
             ],
             [
              0.4444444444444444,
              "#bd3786"
             ],
             [
              0.5555555555555556,
              "#d8576b"
             ],
             [
              0.6666666666666666,
              "#ed7953"
             ],
             [
              0.7777777777777778,
              "#fb9f3a"
             ],
             [
              0.8888888888888888,
              "#fdca26"
             ],
             [
              1,
              "#f0f921"
             ]
            ],
            "type": "surface"
           }
          ],
          "table": [
           {
            "cells": {
             "fill": {
              "color": "#EBF0F8"
             },
             "line": {
              "color": "white"
             }
            },
            "header": {
             "fill": {
              "color": "#C8D4E3"
             },
             "line": {
              "color": "white"
             }
            },
            "type": "table"
           }
          ]
         },
         "layout": {
          "annotationdefaults": {
           "arrowcolor": "#2a3f5f",
           "arrowhead": 0,
           "arrowwidth": 1
          },
          "autotypenumbers": "strict",
          "coloraxis": {
           "colorbar": {
            "outlinewidth": 0,
            "ticks": ""
           }
          },
          "colorscale": {
           "diverging": [
            [
             0,
             "#8e0152"
            ],
            [
             0.1,
             "#c51b7d"
            ],
            [
             0.2,
             "#de77ae"
            ],
            [
             0.3,
             "#f1b6da"
            ],
            [
             0.4,
             "#fde0ef"
            ],
            [
             0.5,
             "#f7f7f7"
            ],
            [
             0.6,
             "#e6f5d0"
            ],
            [
             0.7,
             "#b8e186"
            ],
            [
             0.8,
             "#7fbc41"
            ],
            [
             0.9,
             "#4d9221"
            ],
            [
             1,
             "#276419"
            ]
           ],
           "sequential": [
            [
             0,
             "#0d0887"
            ],
            [
             0.1111111111111111,
             "#46039f"
            ],
            [
             0.2222222222222222,
             "#7201a8"
            ],
            [
             0.3333333333333333,
             "#9c179e"
            ],
            [
             0.4444444444444444,
             "#bd3786"
            ],
            [
             0.5555555555555556,
             "#d8576b"
            ],
            [
             0.6666666666666666,
             "#ed7953"
            ],
            [
             0.7777777777777778,
             "#fb9f3a"
            ],
            [
             0.8888888888888888,
             "#fdca26"
            ],
            [
             1,
             "#f0f921"
            ]
           ],
           "sequentialminus": [
            [
             0,
             "#0d0887"
            ],
            [
             0.1111111111111111,
             "#46039f"
            ],
            [
             0.2222222222222222,
             "#7201a8"
            ],
            [
             0.3333333333333333,
             "#9c179e"
            ],
            [
             0.4444444444444444,
             "#bd3786"
            ],
            [
             0.5555555555555556,
             "#d8576b"
            ],
            [
             0.6666666666666666,
             "#ed7953"
            ],
            [
             0.7777777777777778,
             "#fb9f3a"
            ],
            [
             0.8888888888888888,
             "#fdca26"
            ],
            [
             1,
             "#f0f921"
            ]
           ]
          },
          "colorway": [
           "#636efa",
           "#EF553B",
           "#00cc96",
           "#ab63fa",
           "#FFA15A",
           "#19d3f3",
           "#FF6692",
           "#B6E880",
           "#FF97FF",
           "#FECB52"
          ],
          "font": {
           "color": "#2a3f5f"
          },
          "geo": {
           "bgcolor": "white",
           "lakecolor": "white",
           "landcolor": "#E5ECF6",
           "showlakes": true,
           "showland": true,
           "subunitcolor": "white"
          },
          "hoverlabel": {
           "align": "left"
          },
          "hovermode": "closest",
          "mapbox": {
           "style": "light"
          },
          "paper_bgcolor": "white",
          "plot_bgcolor": "#E5ECF6",
          "polar": {
           "angularaxis": {
            "gridcolor": "white",
            "linecolor": "white",
            "ticks": ""
           },
           "bgcolor": "#E5ECF6",
           "radialaxis": {
            "gridcolor": "white",
            "linecolor": "white",
            "ticks": ""
           }
          },
          "scene": {
           "xaxis": {
            "backgroundcolor": "#E5ECF6",
            "gridcolor": "white",
            "gridwidth": 2,
            "linecolor": "white",
            "showbackground": true,
            "ticks": "",
            "zerolinecolor": "white"
           },
           "yaxis": {
            "backgroundcolor": "#E5ECF6",
            "gridcolor": "white",
            "gridwidth": 2,
            "linecolor": "white",
            "showbackground": true,
            "ticks": "",
            "zerolinecolor": "white"
           },
           "zaxis": {
            "backgroundcolor": "#E5ECF6",
            "gridcolor": "white",
            "gridwidth": 2,
            "linecolor": "white",
            "showbackground": true,
            "ticks": "",
            "zerolinecolor": "white"
           }
          },
          "shapedefaults": {
           "line": {
            "color": "#2a3f5f"
           }
          },
          "ternary": {
           "aaxis": {
            "gridcolor": "white",
            "linecolor": "white",
            "ticks": ""
           },
           "baxis": {
            "gridcolor": "white",
            "linecolor": "white",
            "ticks": ""
           },
           "bgcolor": "#E5ECF6",
           "caxis": {
            "gridcolor": "white",
            "linecolor": "white",
            "ticks": ""
           }
          },
          "title": {
           "x": 0.05
          },
          "xaxis": {
           "automargin": true,
           "gridcolor": "white",
           "linecolor": "white",
           "ticks": "",
           "title": {
            "standoff": 15
           },
           "zerolinecolor": "white",
           "zerolinewidth": 2
          },
          "yaxis": {
           "automargin": true,
           "gridcolor": "white",
           "linecolor": "white",
           "ticks": "",
           "title": {
            "standoff": 15
           },
           "zerolinecolor": "white",
           "zerolinewidth": 2
          }
         }
        },
        "title": {
         "text": "resid_act_mlp_out_results Activation Patching"
        },
        "xaxis": {
         "anchor": "y",
         "constrain": "domain",
         "domain": [
          0,
          1
         ],
         "scaleanchor": "y",
         "title": {
          "text": "Position"
         }
        },
        "yaxis": {
         "anchor": "x",
         "autorange": "reversed",
         "constrain": "domain",
         "domain": [
          0,
          1
         ],
         "title": {
          "text": "Layer"
         }
        }
       }
      }
     },
     "metadata": {},
     "output_type": "display_data"
    }
   ],
   "source": [
    "imshow(resid_act_mlp_out_results[:,1:9], \n",
    "       yaxis=\"Layer\", \n",
    "       xaxis=\"Position\", \n",
    "       x=[f\"{tok} {i}\" for i, tok in enumerate(model.to_str_tokens(clean_tokens[0][1:9]))],\n",
    "       title=\"resid_act_mlp_out_results Activation Patching\")"
   ]
  },
  {
   "cell_type": "code",
   "execution_count": 24,
   "metadata": {},
   "outputs": [
    {
     "data": {
      "application/vnd.jupyter.widget-view+json": {
       "model_id": "9d061598afff4e4287b8f1184034617a",
       "version_major": 2,
       "version_minor": 0
      },
      "text/plain": [
       "  0%|          | 0/1296 [00:00<?, ?it/s]"
      ]
     },
     "metadata": {},
     "output_type": "display_data"
    }
   ],
   "source": [
    "ALL_HEAD_LABELS = [f\"L{i}H{j}\" for i in range(model.cfg.n_layers) for j in range(model.cfg.n_heads)]\n",
    "if True:\n",
    "    attn_head_out_act_patch_results = patching.get_act_patch_attn_head_out_by_pos(model, corrupted_tokens, clean_cache, sb_metric)\n",
    "    attn_head_out_act_patch_results = einops.rearrange(attn_head_out_act_patch_results, \"layer pos head -> (layer head) pos\")\n"
   ]
  },
  {
   "cell_type": "code",
   "execution_count": 28,
   "metadata": {},
   "outputs": [
    {
     "data": {
      "application/vnd.plotly.v1+json": {
       "config": {
        "plotlyServerURL": "https://plot.ly"
       },
       "data": [
        {
         "coloraxis": "coloraxis",
         "hovertemplate": "Position: %{x}<br>Layer: %{y}<br>color: %{z}<extra></extra>",
         "name": "0",
         "type": "heatmap",
         "x": [
          "The 0",
          " day 1",
          " is 2",
          " bright 3",
          " but 4",
          " the 5",
          " night 6",
          " is 7"
         ],
         "xaxis": "x",
         "yaxis": "y",
         "z": [
          [
           0,
           -0.0008433127077296376,
           0.00012135238648625091,
           -0.00034635752672329545,
           -0.0003415713435970247,
           -0.0002851288882084191,
           -0.0016566081903874874,
           0
          ],
          [
           0,
           -0.00845678523182869,
           0.000003915293291356647,
           0.000012363449968688656,
           -3.377332546961043e-8,
           0.000006120209036453161,
           0.01068903412669897,
           0
          ],
          [
           0,
           0.002736505353823304,
           0.00016924778174143285,
           -0.00011891587928403169,
           0.00026534494827501476,
           0.000042260078771505505,
           -0.009589342400431633,
           0
          ],
          [
           0,
           -0.0007193911587819457,
           -0.00005402525857789442,
           -0.000006506189947685925,
           0.000008920982509152964,
           -0.000037483565392903984,
           -0.000234864535741508,
           0
          ],
          [
           0,
           0.006011287681758404,
           0.0003890349471475929,
           0.00012049116776324809,
           -0.000005205916750128381,
           -0.00006974191637709737,
           0.009844640269875526,
           0
          ],
          [
           0,
           -0.00420526135712862,
           5.958579549769638e-7,
           -0.00001046490615408402,
           0.00001028880251396913,
           -0.000014138961887510959,
           -0.010470295324921608,
           0
          ],
          [
           0,
           0.0034608806017786264,
           0.0013490248238667846,
           0.0012845877790823579,
           0.00036390277091413736,
           -0.00008695666474523023,
           -0.023320578038692474,
           0
          ],
          [
           0,
           0.0027681123465299606,
           -0.00021159471361897886,
           0.0010322454618290067,
           0.0007719400455243886,
           -0.0000372206159227062,
           -0.007917801849544048,
           0
          ],
          [
           0,
           0.002045213710516691,
           -0.0002535339444875717,
           0.0016194430645555258,
           -0.0002686306252144277,
           -0.000026003048333222978,
           -0.025149842724204063,
           0
          ],
          [
           0,
           0.0006263359682634473,
           -0.0004845603834837675,
           -0.000013873599527869374,
           -0.0006790513289161026,
           -0.000413969304645434,
           0.000764717347919941,
           0
          ],
          [
           0,
           0.0031288936734199524,
           0.00002697523814276792,
           0.0007598202209919691,
           -0.00010195443610427901,
           -0.0001917769986903295,
           -0.022749876603484154,
           0
          ],
          [
           0,
           -0.0015515441773459315,
           -0.0001247055915882811,
           0.000468877493403852,
           0.00004123481994611211,
           -0.00017978988762479275,
           0.0011996623361483216,
           0
          ],
          [
           0,
           0.00013243485591374338,
           -0.00011674232518998906,
           0.00020974200742784888,
           -0.0003502510953694582,
           0.0006495285779237747,
           0.0018615640001371503,
           0
          ],
          [
           0,
           0.0005377147463150322,
           -0.0002674292481970042,
           0.0006728298030793667,
           0.00019672962662298232,
           0.0003944169729948044,
           -0.005165736190974712,
           0
          ],
          [
           0,
           -0.000814200087916106,
           0.00010890208795899525,
           -0.00019957381300628185,
           0.0000995275768218562,
           0.00000230382329391432,
           0.0022407732903957367,
           0
          ],
          [
           0,
           0.00045579997822642326,
           -0.00015465771139133722,
           0.00033613384584896266,
           -0.00019257067469879985,
           0.0003881302836816758,
           0.0008939967956393957,
           0
          ],
          [
           0,
           0.0016479621408507228,
           -0.0000035510240650182823,
           -0.0003181809152010828,
           0.0007934657041914761,
           -0.00001905539284052793,
           -0.0031263460405170918,
           0
          ],
          [
           0,
           0.0033589720260351896,
           -0.00002142676203220617,
           -0.00008549958874937147,
           0.000059298723499523476,
           0.000018428174371365458,
           -0.014526501297950745,
           0
          ],
          [
           0,
           0.0014560187701135874,
           -0.000057313332945341244,
           0.0018096206476911902,
           0.0005440569366328418,
           0.0002405553386779502,
           -0.022203216329216957,
           0
          ],
          [
           0,
           0.004936815705150366,
           -0.0015159904723986983,
           0.00006119485624367371,
           -0.001140706124715507,
           0.00012574050924740732,
           -0.01825188659131527,
           0
          ],
          [
           0,
           -0.001984679838642478,
           0.0001242303551407531,
           -0.000778356974478811,
           0.0003270150627940893,
           -0.000016223259081016295,
           0.0027488230261951685,
           0
          ],
          [
           0,
           -0.00024824118008837104,
           -0.000014170322174322791,
           0.0003422998997848481,
           -0.00002019162457145285,
           0.00007785716297803447,
           0.0016360522713512182,
           0
          ],
          [
           0,
           0.0006955809658393264,
           -0.0004139138327445835,
           0.001595215522684157,
           -0.0005249002133496106,
           0.00024132730322889984,
           0.0019998319912701845,
           0
          ],
          [
           0,
           -0.009104504249989986,
           0.00013995666813571006,
           -0.0005158899584785104,
           -0.0001584716810612008,
           -0.00010980672959703952,
           0.016341857612133026,
           0
          ],
          [
           0,
           0.002902829321101308,
           0.0008253935375250876,
           -0.0010485677048563957,
           0.0015835806261748075,
           0.00037040896131657064,
           -0.004170711617916822,
           0
          ],
          [
           0,
           0.005248425528407097,
           -0.0013503492809832096,
           -0.007560803089290857,
           0.0015769200399518013,
           -0.0005925795412622392,
           -0.03331657871603966,
           0
          ],
          [
           0,
           0.0009062275639735162,
           0.0028314783703535795,
           0.0009718346991576254,
           0.00019143444660585374,
           0.00027297771885059774,
           -0.000717847200576216,
           0
          ],
          [
           0,
           0.0001498160563642159,
           0.00015400636766571552,
           -0.00012967751536052674,
           -0.0000360071899194736,
           0.00015817495295777917,
           0.0007753800600767136,
           0
          ],
          [
           0,
           0.0003641681105364114,
           -0.000019530631107045338,
           -0.0016139186918735504,
           0.00013952725566923618,
           0.000005657032033923315,
           0.002875943435356021,
           0
          ],
          [
           0,
           -0.0005140830762684345,
           -0.0006783445132896304,
           -0.0006055484991520643,
           -0.0002509985351935029,
           -0.000023501410396420397,
           -0.00035205797757953405,
           0
          ],
          [
           0,
           0.0003074289415962994,
           -0.00026513508055359125,
           0.00040988996624946594,
           0.0009107942460104823,
           0.0003008769126608968,
           0.0019157774513587356,
           0
          ],
          [
           0,
           0.001408277777954936,
           0.00004041702050017193,
           -0.0005615587579086423,
           -0.0006615712190978229,
           -0.00020590391068253666,
           0.005389031022787094,
           0
          ],
          [
           0,
           -0.0003521134494803846,
           -0.00021933604148216546,
           -0.0009201904758810997,
           0.0003931167011614889,
           -0.00024702775408513844,
           -0.0015359288081526756,
           0
          ],
          [
           0,
           0.003560540731996298,
           0.003358728252351284,
           -0.0040489728562533855,
           0.00024794205091893673,
           0.0007282807491719723,
           0.00013104532263241708,
           0
          ],
          [
           0,
           0.0012214967282488942,
           0.0006141293561086059,
           0.0009914087131619453,
           -0.0006390854250639677,
           -0.00048127470654435456,
           -0.0005230933311395347,
           0
          ],
          [
           0,
           -0.00014114838268142194,
           -0.0004738421703223139,
           0.0005291363340802491,
           0.0010606874711811543,
           0.00038527403376065195,
           -0.001890676561743021,
           0
          ],
          [
           0,
           -0.0000062094673012325075,
           0.00005104838055558503,
           0.00017207027121912688,
           -0.00021747368737123907,
           0.00024069767096079886,
           -0.013138378970324993,
           0
          ],
          [
           0,
           -0.00012625916860997677,
           0.00014740126789547503,
           -0.00015052047092467546,
           -0.0003193388693034649,
           -0.00025888218078762293,
           -0.002188832266256213,
           0
          ],
          [
           0,
           -0.0003065122291445732,
           0.000234201128478162,
           -0.0015287037240341306,
           0.000011634911061264575,
           0.00012784892169293016,
           0.004332415759563446,
           0
          ],
          [
           0,
           -0.00008766107930568978,
           -0.0005350346327759326,
           0.00047900225035846233,
           0.00004222630741423927,
           -0.00013679161202162504,
           -0.0006236027693375945,
           0
          ],
          [
           0,
           0.0000021735547761636553,
           0.00019760048598982394,
           0.00010558265057625249,
           0.0002222815528512001,
           -0.0004977488424628973,
           -0.004343751352280378,
           0
          ],
          [
           0,
           -0.0008684907224960625,
           0.0004860391782131046,
           -0.0022107006516307592,
           0.0009894015965983272,
           0.003037218237295747,
           -0.010237191803753376,
           0
          ],
          [
           0,
           -0.0010446958476677537,
           -0.0005529779009521008,
           0.0014628240605816245,
           -0.0010094292229041457,
           0.00003792503412114456,
           0.0010815063724294305,
           0
          ],
          [
           0,
           -0.0001668643526500091,
           0.007006170228123665,
           0.00015123936464078724,
           -0.0014477153308689594,
           0.0004403607454150915,
           -0.0024895332753658295,
           0
          ],
          [
           0,
           0.0008064032881520689,
           0.0001655640808166936,
           -0.0012403881410136819,
           0.0005468021845445037,
           -0.0007339257281273603,
           -0.0011958242394030094,
           0
          ],
          [
           0,
           0.00035513617331162095,
           0.000585820060223341,
           -0.000048158352001337335,
           0.00039254254079423845,
           0.000969009764958173,
           0.0012728226138278842,
           0
          ],
          [
           0,
           0.0008224697667174041,
           -0.0006179770571179688,
           -0.000366373045835644,
           0.0007152780308388174,
           -0.000262025510892272,
           -0.00002129408130713273,
           0
          ],
          [
           0,
           0.00012212434376124293,
           0.000435133115388453,
           0.0018911638762801886,
           0.0002973258960992098,
           0.00021282985107973218,
           -0.001639118418097496,
           0
          ],
          [
           0,
           -0.00013495096936821938,
           0.00013689052138943225,
           -0.00037703817361034453,
           -0.0001120237066061236,
           -0.0005594189278781414,
           -0.00016280672571156174,
           0
          ],
          [
           0,
           -0.00007733850361546502,
           -0.00019650768081191927,
           0.00011904856364708394,
           -0.00006410659989342093,
           -0.0002512735372874886,
           0.0030012328643351793,
           0
          ],
          [
           0,
           -0.0002239461027784273,
           0.00011450363672338426,
           0.00026874159811995924,
           -0.00012133067502873018,
           -0.0010692008072510362,
           -0.00020259653683751822,
           0
          ],
          [
           0,
           0.0016201594844460487,
           0.01372454222291708,
           0.0016335481777787209,
           0.002841248642653227,
           0.0007694263476878405,
           -0.0010899545159190893,
           0
          ],
          [
           0,
           0.00005547027467400767,
           -0.00021132934489287436,
           -0.0009364233701489866,
           -0.0005877378862351179,
           -0.0024524452164769173,
           0.0027267015539109707,
           0
          ],
          [
           0,
           0.0011823487002402544,
           0.0008421764941886067,
           -0.00008510395855410025,
           0.000533304933924228,
           -0.0002569739881437272,
           0.003807028289884329,
           0
          ],
          [
           0,
           -0.00025019279564730823,
           0.00015533076657447964,
           -0.0024986518546938896,
           0.0016890860861167312,
           0.00003739671956282109,
           0.0016918312758207321,
           0
          ],
          [
           0,
           0.0005241065518930554,
           -0.0017177354311570525,
           -0.0047211297787725925,
           -0.00594312371686101,
           -0.00009091538231587037,
           -0.006901504471898079,
           0
          ],
          [
           0,
           -0.00025222162366844714,
           -0.0005354326567612588,
           -0.000038687343476340175,
           0.00013360485900193453,
           0.0003934134147129953,
           0.006948748603463173,
           0
          ],
          [
           0,
           -0.00019771145889535546,
           -0.0005935613880865276,
           -0.0016554598696529865,
           0.0009682064410299063,
           -0.0005134317325428128,
           -0.0016029567923396826,
           0
          ],
          [
           0,
           0.00044126537977717817,
           0.0003189866547472775,
           0.0008212008397094905,
           -0.00032005534740164876,
           -0.0000880470615811646,
           -0.004275278653949499,
           0
          ],
          [
           0,
           1.2061901699667033e-8,
           0.0048555186949670315,
           0.0027915029786527157,
           0.003405861323699355,
           -0.0005239183665253222,
           0.0019857389852404594,
           0
          ],
          [
           0,
           0.00014575844397768378,
           -0.00017124282021541148,
           0.0007800456369295716,
           0.0005333483568392694,
           0.0013288549380376935,
           0.012053729966282845,
           0
          ],
          [
           0,
           0.0000035076011499768356,
           -0.000017523530914331786,
           -0.0000029768773401883664,
           -0.0000011796540775321773,
           0.00008223563781939447,
           0.0011740115005522966,
           0
          ],
          [
           0,
           0.00007605029531987384,
           0.0005663665942847729,
           -0.002196419285610318,
           0.008145001716911793,
           0.005144430324435234,
           0.0006591443670913577,
           0
          ],
          [
           0,
           0.0004609817697200924,
           -0.00016600554226897657,
           -0.0019426200306043029,
           0.0012683210661634803,
           -0.0021674802992492914,
           0.0008625683258287609,
           0
          ],
          [
           0,
           -0.000031594947358826175,
           0.00073185347719118,
           -0.002467069076374173,
           0.00009135684376815334,
           -0.002426319057121873,
           0.004050427582114935,
           0
          ],
          [
           0,
           0.000056408691307296976,
           0.0002674509596545249,
           -0.0003710168821271509,
           0.0003116288862656802,
           0.0016267549945041537,
           0.019749296829104424,
           0
          ],
          [
           0,
           0.00023535906802862883,
           -0.00028823845786973834,
           0.0005681083421222866,
           -0.0003712580946739763,
           0.0000059223939388175495,
           0.002173238666728139,
           0
          ],
          [
           0,
           0.0004512550658546388,
           0.0025917505845427513,
           0.0009302018443122506,
           0.00016459429753012955,
           -0.00017094610666390508,
           -0.00032017595367506146,
           0
          ],
          [
           0,
           -0.00012269848957657814,
           -0.0000598825172346551,
           0.0007898157346062362,
           -0.00010733645467553288,
           0.005891754291951656,
           0.0465712733566761,
           0
          ],
          [
           0,
           -0.0003778752579819411,
           -0.0005791040020994842,
           0.0010874287690967321,
           -0.000037483565392903984,
           -0.001711096614599228,
           0.01927093230187893,
           0
          ],
          [
           0,
           0.0021683077793568373,
           0.01050303503870964,
           0.004726468585431576,
           0.0011275707511231303,
           0.004034349229186773,
           -0.0044580912217497826,
           0
          ],
          [
           0,
           -0.00038645611493848264,
           -0.00132758601102978,
           -0.0030857843812555075,
           -0.003290551947429776,
           -0.0012179022887721658,
           0.0034821312874555588,
           0
          ],
          [
           0,
           -0.0003793540527112782,
           -0.0005225625936873257,
           0.003181452164426446,
           0.004989818204194307,
           0.004824263975024223,
           -0.0010258478578180075,
           0
          ],
          [
           0,
           0.00029149276087991893,
           0.000529753917362541,
           0.0012326467549428344,
           -0.0009617654141038656,
           0.01750854402780533,
           0.03268257901072502,
           0
          ],
          [
           0,
           0.00011203336180187762,
           0.0003368286124896258,
           0.000476201472338289,
           0.0005071016494184732,
           0.0004091951996088028,
           0.003997338470071554,
           0
          ],
          [
           0,
           0.00004288729905965738,
           0.0008120265556499362,
           0.0009325852734036744,
           -0.002816811203956604,
           -0.005832402501255274,
           0.005536410491913557,
           0
          ],
          [
           0,
           -0.0007982205133885145,
           0.0011606565676629543,
           0.0010919616324827075,
           0.003922127652913332,
           0.0018848555628210306,
           0.012567680329084396,
           0
          ],
          [
           0,
           -0.000014963995454309043,
           0.0005233779666014016,
           0.0007098526111803949,
           -0.005961607210338116,
           -0.007327791303396225,
           -0.02155008353292942,
           0
          ],
          [
           0,
           0.00006196681351866573,
           -0.0002407410938758403,
           -0.0011818517232313752,
           -0.006187174469232559,
           -0.0031348811462521553,
           -0.01986011490225792,
           0
          ],
          [
           0,
           0.0005016207578592002,
           0.0018679037457332015,
           0.0019694070797413588,
           -0.006089376285672188,
           0.008718369528651237,
           0.01394842192530632,
           0
          ],
          [
           0,
           0.00001397250707668718,
           0.00014145715977065265,
           0.00013754186511505395,
           0.0022123651579022408,
           -0.0004947165143676102,
           0.0014617095002904534,
           0
          ],
          [
           0,
           -0.0000031988163300411543,
           0.00008838962094159797,
           -6.827036713730195e-7,
           0.00005796226469101384,
           0.0003329808823764324,
           0.008298246189951897,
           0
          ],
          [
           0,
           0.00009295625204686075,
           -0.0003993020218331367,
           -0.00022398952569346875,
           0.00042879098327830434,
           0.00003459594881860539,
           -0.00013307413610164076,
           0
          ],
          [
           0,
           0.00010412557458039373,
           0.00010647523595253006,
           -0.000046305642172228545,
           0.0009438124834559858,
           0.00014919848763383925,
           0.001574625843204558,
           0
          ],
          [
           0,
           -0.00003459594881860539,
           -0.000006098497578932438,
           -0.00019986089318990707,
           -0.0006145032239146531,
           -0.0000596943536947947,
           0.005163000896573067,
           0
          ],
          [
           0,
           0.00016646872973069549,
           0.00015118387818802148,
           -0.00106416130438447,
           0.001621339120902121,
           0.002844160422682762,
           0.0056426203809678555,
           0
          ],
          [
           0,
           -0.0000014233044112188509,
           0.00000992453260550974,
           0.000050232996727572754,
           -0.00020513194613158703,
           -0.0001113603066187352,
           -0.0005660916212946177,
           0
          ],
          [
           0,
           -0.000031221028621075675,
           -0.00045827991561964154,
           0.0023015146143734455,
           -0.005092057399451733,
           -0.006973482668399811,
           -0.016155976802110672,
           0
          ],
          [
           0,
           0.000013784341717837378,
           -0.00012303864059504122,
           0.0005858851945959032,
           -0.0009604627266526222,
           0.00014358488260768354,
           -0.00015435856766998768,
           0
          ],
          [
           0,
           -0.0001430662232451141,
           0.00015456844994332641,
           -0.0003873269888572395,
           -0.000008889622222341131,
           -0.007031193934381008,
           -0.0257834792137146,
           0
          ],
          [
           0,
           -0.0001385888463119045,
           -0.00034192355815321207,
           0.0005651749088428915,
           -0.004247012548148632,
           -0.010537972673773766,
           -0.0027241322677582502,
           0
          ],
          [
           0,
           0.00002444947494950611,
           -0.0000312427400785964,
           0.00010499885684112087,
           0.003560275537893176,
           0.012585368938744068,
           0.029745880514383316,
           0
          ],
          [
           0,
           0.00004433231515577063,
           0.001822447287850082,
           -0.0029399727936834097,
           0.002885913709178567,
           0.00040758372051641345,
           -0.0006346417940221727,
           0
          ],
          [
           0,
           -0.000033249838452320546,
           0.00008450810128124431,
           -0.0002563250600360334,
           0.0001733826065901667,
           0.005875588860362768,
           0.01517801359295845,
           0
          ],
          [
           0,
           0.000004180655196250882,
           -0.000008612198143964633,
           0.0000033194353363796836,
           -0.00007354623812716454,
           -0.00027436725213192403,
           0.0062212515622377396,
           0
          ],
          [
           0,
           -0.000007577286851301324,
           0.000016884250726434402,
           0.000052119477913947776,
           -0.00006767933518858626,
           0.0011826887493953109,
           0.039727721363306046,
           0
          ],
          [
           0,
           -0.00008021888788789511,
           -0.00008825693657854572,
           -0.0005127707845531404,
           -0.0005590112414211035,
           -0.00031810373184271157,
           0.0016929458361119032,
           0
          ],
          [
           0,
           0.000011656622518785298,
           0.0000017538005749884178,
           0.00006332257180474699,
           -0.00018659520719666034,
           0.0022875540889799595,
           -0.0190853551030159,
           0
          ],
          [
           0,
           -0.000244943454163149,
           0.00014163326704874635,
           -0.00003480341183603741,
           0.0017879188526421785,
           0.000296621466986835,
           0.005457494407892227,
           0
          ],
          [
           0,
           1.7610376801258099e-7,
           0.000048578105634078383,
           -0.0010472312569618225,
           0.0019155892077833414,
           0.004705470986664295,
           -0.0013384610647335649,
           0
          ],
          [
           0,
           0.0003406232863198966,
           0.001029676292091608,
           -0.00007970022124936804,
           0.0006336382357403636,
           0.001144158304668963,
           0.028234776109457016,
           0
          ],
          [
           0,
           -0.00011165944306412712,
           0.00006900131847942248,
           0.001242691883817315,
           -0.0015430526109412313,
           0.0022556071635335684,
           -0.012027448043227196,
           0
          ],
          [
           0,
           0.00023170914209913462,
           0.0001270311331609264,
           -0.0006251008599065244,
           0.0016796898562461138,
           0.016596151515841484,
           -0.007049609906971455,
           0
          ],
          [
           0,
           -0.00005031984255765565,
           0.0002686643856577575,
           -0.0010511924047023058,
           0.0011718934401869774,
           0.0011801871005445719,
           0.008655895479023457,
           0
          ],
          [
           0,
           -0.00011589317000471056,
           0.00011048943269997835,
           -0.001116191502660513,
           0.005072714760899544,
           0.021305933594703674,
           0.020742157474160194,
           0
          ],
          [
           0,
           -0.00006045666668796912,
           -0.00009145575313596055,
           0.0024864766746759415,
           0.0002635598066262901,
           0.000700820644851774,
           -0.003307183040305972,
           0
          ],
          [
           0,
           -0.00023715870338492095,
           -0.00024048778868746012,
           0.00460332864895463,
           -0.007444323506206274,
           -0.013607422821223736,
           -0.016157854348421097,
           0
          ],
          [
           0,
           -0.00002995211434608791,
           -0.00005591173976426944,
           -0.00032177535467781126,
           -0.0002453173801768571,
           -0.0023109784815460443,
           0.0020455997437238693,
           0
          ],
          [
           0,
           -0.0004439889744389802,
           -0.0016466064844280481,
           -0.0007508992566727102,
           -0.0017124643782153726,
           0.0005874966736882925,
           -0.016750885173678398,
           0
          ],
          [
           0,
           0.00003237896817154251,
           0.00000799462850409327,
           0.0000341327722708229,
           0.00026263343170285225,
           0.00002823208888003137,
           0.0011335824383422732,
           0
          ],
          [
           0,
           0.0000017320891174676945,
           -0.0005832387832924724,
           -0.00006144815415609628,
           -0.00003645830656751059,
           0.00022452024859376252,
           0.01283026859164238,
           0
          ],
          [
           0,
           -0.00010027782991528511,
           -0.0004199134127702564,
           0.00038219825364649296,
           -0.00011389813153073192,
           0.0009755497449077666,
           0.03702615201473236,
           0
          ],
          [
           0,
           0.000007444606126227882,
           -0.000014667272807855625,
           -0.00030231228447519243,
           0.0006182207143865526,
           0.0011618916178122163,
           0.007207210641354322,
           0
          ],
          [
           0,
           -0.00024001496785786003,
           -0.00024134901468642056,
           0.0004736540140584111,
           -0.0006709240260533988,
           -0.0018385595176368952,
           -0.013609728775918484,
           0
          ],
          [
           0,
           -0.00004229144178680144,
           0.0000015776968211866915,
           -0.00006660823419224471,
           -0.000015185934898909181,
           0.00046475473209284246,
           -0.009344872087240219,
           0
          ],
          [
           0,
           0.00037891260581091046,
           0.00017317272431682795,
           0.000387536856578663,
           -0.0006637978367507458,
           0.010040631517767906,
           0.18312682211399078,
           0
          ],
          [
           0,
           -0.00016778105054982007,
           0.0001228408218594268,
           0.00002007100556511432,
           0.0007353152614086866,
           0.0007258321857079864,
           0.003658965928480029,
           0
          ],
          [
           0,
           -0.0000017103776599469711,
           0.00002280664375575725,
           0.00002720682641665917,
           0.00005501916166394949,
           0.00020116116502322257,
           -0.0013105932157486677,
           0
          ],
          [
           0,
           -0.00005878006049897522,
           -0.00008708934183232486,
           0.0004192089836578816,
           -0.0001048324047587812,
           -0.00033435833756811917,
           0.015014048665761948,
           0
          ],
          [
           0,
           0.000007244378593895817,
           0.000011051114597648848,
           0.000023732998670311645,
           -0.000008744878869038075,
           0.00014154400560073555,
           0.0005843412363901734,
           0
          ],
          [
           0,
           -0.0004359919112175703,
           -0.00027222748030908406,
           0.00019692743080668151,
           -0.00032242669840343297,
           -0.002331092953681946,
           -0.0025562860537320375,
           0
          ],
          [
           0,
           -0.00007353418186539784,
           -0.00004082471423316747,
           0.00010795402340590954,
           0.00011237591388635337,
           -0.0005518754478543997,
           -0.01009896770119667,
           0
          ],
          [
           0,
           -0.000018273782188771293,
           0.000005480928393808426,
           0.0000700603486620821,
           0.00001861633973021526,
           0.000013719207345275208,
           0.005800662562251091,
           0
          ],
          [
           0,
           -0.00001209808760904707,
           0.000015649111446691677,
           0.00020449266594368964,
           0.00004994592381990515,
           0.000045524029701482505,
           0.003147365292534232,
           0
          ],
          [
           0,
           0.00002137127739842981,
           0.000056881519412854686,
           -6.055074663890991e-7,
           0.000060323985962895676,
           0.00017509298049844801,
           0.016955720260739326,
           0
          ],
          [
           0,
           -0.00006874802056699991,
           -0.0000920612583286129,
           -0.0003053325635846704,
           0.000032863859814824536,
           0.0000016645425375827472,
           -0.00791983027011156,
           0
          ],
          [
           0,
           -0.0000012906235724585713,
           0.000049096764996647835,
           -0.00018489689682610333,
           -0.000065660169639159,
           -0.00006741397373843938,
           0.0016233365749940276,
           0
          ],
          [
           0,
           -0.000026456575142219663,
           -0.000038851387216709554,
           0.00005983909795759246,
           -0.0002998420095536858,
           -0.00029985164292156696,
           0.0037777055986225605,
           0
          ],
          [
           0,
           0.00001712548873911146,
           0.000002327947186131496,
           -0.00003650172948255204,
           0.00005206399509916082,
           0.00013457464228849858,
           -0.001895552035421133,
           0
          ],
          [
           0,
           -0.000019441373297013342,
           0.00007139439549064264,
           0.0002452305343467742,
           0.0005177113343961537,
           0.00015548514784313738,
           0.014697037637233734,
           0
          ],
          [
           0,
           -0.000030128219805192202,
           -0.000005888620762561914,
           0.000003353208740008995,
           0.00007524455577367917,
           0.00000942999486142071,
           -0.0028564129024744034,
           0
          ],
          [
           0,
           0.000009241829502570909,
           0.00010066381219075993,
           0.0002543951559346169,
           -0.00005601064913207665,
           -0.00002268361276946962,
           0.01596531644463539,
           0
          ],
          [
           0,
           0,
           0,
           0,
           0,
           0,
           -0.015137054957449436,
           0
          ],
          [
           0,
           0,
           0,
           0,
           0,
           0,
           -0.004307580180466175,
           0
          ],
          [
           0,
           0,
           0,
           0,
           0,
           0,
           0.0034361681900918484,
           0
          ],
          [
           0,
           0,
           0,
           0,
           0,
           0,
           0.01543051190674305,
           0
          ],
          [
           0,
           0,
           0,
           0,
           0,
           0,
           -0.005972016602754593,
           0
          ],
          [
           0,
           0,
           0,
           0,
           0,
           0,
           -0.01119343563914299,
           0
          ],
          [
           0,
           0,
           0,
           0,
           0,
           0,
           0.0030351991299539804,
           0
          ],
          [
           0,
           0,
           0,
           0,
           0,
           0,
           -0.005574477836489677,
           0
          ],
          [
           0,
           0,
           0,
           0,
           0,
           0,
           0.003363579511642456,
           0
          ],
          [
           0,
           0,
           0,
           0,
           0,
           0,
           -0.005513825919479132,
           0
          ],
          [
           0,
           0,
           0,
           0,
           0,
           0,
           -0.001412878162227571,
           0
          ],
          [
           0,
           0,
           0,
           0,
           0,
           0,
           0.03275530785322189,
           0
          ]
         ]
        }
       ],
       "layout": {
        "coloraxis": {
         "cmid": 0,
         "colorscale": [
          [
           0,
           "rgb(103,0,31)"
          ],
          [
           0.1,
           "rgb(178,24,43)"
          ],
          [
           0.2,
           "rgb(214,96,77)"
          ],
          [
           0.3,
           "rgb(244,165,130)"
          ],
          [
           0.4,
           "rgb(253,219,199)"
          ],
          [
           0.5,
           "rgb(247,247,247)"
          ],
          [
           0.6,
           "rgb(209,229,240)"
          ],
          [
           0.7,
           "rgb(146,197,222)"
          ],
          [
           0.8,
           "rgb(67,147,195)"
          ],
          [
           0.9,
           "rgb(33,102,172)"
          ],
          [
           1,
           "rgb(5,48,97)"
          ]
         ]
        },
        "template": {
         "data": {
          "bar": [
           {
            "error_x": {
             "color": "#2a3f5f"
            },
            "error_y": {
             "color": "#2a3f5f"
            },
            "marker": {
             "line": {
              "color": "#E5ECF6",
              "width": 0.5
             },
             "pattern": {
              "fillmode": "overlay",
              "size": 10,
              "solidity": 0.2
             }
            },
            "type": "bar"
           }
          ],
          "barpolar": [
           {
            "marker": {
             "line": {
              "color": "#E5ECF6",
              "width": 0.5
             },
             "pattern": {
              "fillmode": "overlay",
              "size": 10,
              "solidity": 0.2
             }
            },
            "type": "barpolar"
           }
          ],
          "carpet": [
           {
            "aaxis": {
             "endlinecolor": "#2a3f5f",
             "gridcolor": "white",
             "linecolor": "white",
             "minorgridcolor": "white",
             "startlinecolor": "#2a3f5f"
            },
            "baxis": {
             "endlinecolor": "#2a3f5f",
             "gridcolor": "white",
             "linecolor": "white",
             "minorgridcolor": "white",
             "startlinecolor": "#2a3f5f"
            },
            "type": "carpet"
           }
          ],
          "choropleth": [
           {
            "colorbar": {
             "outlinewidth": 0,
             "ticks": ""
            },
            "type": "choropleth"
           }
          ],
          "contour": [
           {
            "colorbar": {
             "outlinewidth": 0,
             "ticks": ""
            },
            "colorscale": [
             [
              0,
              "#0d0887"
             ],
             [
              0.1111111111111111,
              "#46039f"
             ],
             [
              0.2222222222222222,
              "#7201a8"
             ],
             [
              0.3333333333333333,
              "#9c179e"
             ],
             [
              0.4444444444444444,
              "#bd3786"
             ],
             [
              0.5555555555555556,
              "#d8576b"
             ],
             [
              0.6666666666666666,
              "#ed7953"
             ],
             [
              0.7777777777777778,
              "#fb9f3a"
             ],
             [
              0.8888888888888888,
              "#fdca26"
             ],
             [
              1,
              "#f0f921"
             ]
            ],
            "type": "contour"
           }
          ],
          "contourcarpet": [
           {
            "colorbar": {
             "outlinewidth": 0,
             "ticks": ""
            },
            "type": "contourcarpet"
           }
          ],
          "heatmap": [
           {
            "colorbar": {
             "outlinewidth": 0,
             "ticks": ""
            },
            "colorscale": [
             [
              0,
              "#0d0887"
             ],
             [
              0.1111111111111111,
              "#46039f"
             ],
             [
              0.2222222222222222,
              "#7201a8"
             ],
             [
              0.3333333333333333,
              "#9c179e"
             ],
             [
              0.4444444444444444,
              "#bd3786"
             ],
             [
              0.5555555555555556,
              "#d8576b"
             ],
             [
              0.6666666666666666,
              "#ed7953"
             ],
             [
              0.7777777777777778,
              "#fb9f3a"
             ],
             [
              0.8888888888888888,
              "#fdca26"
             ],
             [
              1,
              "#f0f921"
             ]
            ],
            "type": "heatmap"
           }
          ],
          "heatmapgl": [
           {
            "colorbar": {
             "outlinewidth": 0,
             "ticks": ""
            },
            "colorscale": [
             [
              0,
              "#0d0887"
             ],
             [
              0.1111111111111111,
              "#46039f"
             ],
             [
              0.2222222222222222,
              "#7201a8"
             ],
             [
              0.3333333333333333,
              "#9c179e"
             ],
             [
              0.4444444444444444,
              "#bd3786"
             ],
             [
              0.5555555555555556,
              "#d8576b"
             ],
             [
              0.6666666666666666,
              "#ed7953"
             ],
             [
              0.7777777777777778,
              "#fb9f3a"
             ],
             [
              0.8888888888888888,
              "#fdca26"
             ],
             [
              1,
              "#f0f921"
             ]
            ],
            "type": "heatmapgl"
           }
          ],
          "histogram": [
           {
            "marker": {
             "pattern": {
              "fillmode": "overlay",
              "size": 10,
              "solidity": 0.2
             }
            },
            "type": "histogram"
           }
          ],
          "histogram2d": [
           {
            "colorbar": {
             "outlinewidth": 0,
             "ticks": ""
            },
            "colorscale": [
             [
              0,
              "#0d0887"
             ],
             [
              0.1111111111111111,
              "#46039f"
             ],
             [
              0.2222222222222222,
              "#7201a8"
             ],
             [
              0.3333333333333333,
              "#9c179e"
             ],
             [
              0.4444444444444444,
              "#bd3786"
             ],
             [
              0.5555555555555556,
              "#d8576b"
             ],
             [
              0.6666666666666666,
              "#ed7953"
             ],
             [
              0.7777777777777778,
              "#fb9f3a"
             ],
             [
              0.8888888888888888,
              "#fdca26"
             ],
             [
              1,
              "#f0f921"
             ]
            ],
            "type": "histogram2d"
           }
          ],
          "histogram2dcontour": [
           {
            "colorbar": {
             "outlinewidth": 0,
             "ticks": ""
            },
            "colorscale": [
             [
              0,
              "#0d0887"
             ],
             [
              0.1111111111111111,
              "#46039f"
             ],
             [
              0.2222222222222222,
              "#7201a8"
             ],
             [
              0.3333333333333333,
              "#9c179e"
             ],
             [
              0.4444444444444444,
              "#bd3786"
             ],
             [
              0.5555555555555556,
              "#d8576b"
             ],
             [
              0.6666666666666666,
              "#ed7953"
             ],
             [
              0.7777777777777778,
              "#fb9f3a"
             ],
             [
              0.8888888888888888,
              "#fdca26"
             ],
             [
              1,
              "#f0f921"
             ]
            ],
            "type": "histogram2dcontour"
           }
          ],
          "mesh3d": [
           {
            "colorbar": {
             "outlinewidth": 0,
             "ticks": ""
            },
            "type": "mesh3d"
           }
          ],
          "parcoords": [
           {
            "line": {
             "colorbar": {
              "outlinewidth": 0,
              "ticks": ""
             }
            },
            "type": "parcoords"
           }
          ],
          "pie": [
           {
            "automargin": true,
            "type": "pie"
           }
          ],
          "scatter": [
           {
            "fillpattern": {
             "fillmode": "overlay",
             "size": 10,
             "solidity": 0.2
            },
            "type": "scatter"
           }
          ],
          "scatter3d": [
           {
            "line": {
             "colorbar": {
              "outlinewidth": 0,
              "ticks": ""
             }
            },
            "marker": {
             "colorbar": {
              "outlinewidth": 0,
              "ticks": ""
             }
            },
            "type": "scatter3d"
           }
          ],
          "scattercarpet": [
           {
            "marker": {
             "colorbar": {
              "outlinewidth": 0,
              "ticks": ""
             }
            },
            "type": "scattercarpet"
           }
          ],
          "scattergeo": [
           {
            "marker": {
             "colorbar": {
              "outlinewidth": 0,
              "ticks": ""
             }
            },
            "type": "scattergeo"
           }
          ],
          "scattergl": [
           {
            "marker": {
             "colorbar": {
              "outlinewidth": 0,
              "ticks": ""
             }
            },
            "type": "scattergl"
           }
          ],
          "scattermapbox": [
           {
            "marker": {
             "colorbar": {
              "outlinewidth": 0,
              "ticks": ""
             }
            },
            "type": "scattermapbox"
           }
          ],
          "scatterpolar": [
           {
            "marker": {
             "colorbar": {
              "outlinewidth": 0,
              "ticks": ""
             }
            },
            "type": "scatterpolar"
           }
          ],
          "scatterpolargl": [
           {
            "marker": {
             "colorbar": {
              "outlinewidth": 0,
              "ticks": ""
             }
            },
            "type": "scatterpolargl"
           }
          ],
          "scatterternary": [
           {
            "marker": {
             "colorbar": {
              "outlinewidth": 0,
              "ticks": ""
             }
            },
            "type": "scatterternary"
           }
          ],
          "surface": [
           {
            "colorbar": {
             "outlinewidth": 0,
             "ticks": ""
            },
            "colorscale": [
             [
              0,
              "#0d0887"
             ],
             [
              0.1111111111111111,
              "#46039f"
             ],
             [
              0.2222222222222222,
              "#7201a8"
             ],
             [
              0.3333333333333333,
              "#9c179e"
             ],
             [
              0.4444444444444444,
              "#bd3786"
             ],
             [
              0.5555555555555556,
              "#d8576b"
             ],
             [
              0.6666666666666666,
              "#ed7953"
             ],
             [
              0.7777777777777778,
              "#fb9f3a"
             ],
             [
              0.8888888888888888,
              "#fdca26"
             ],
             [
              1,
              "#f0f921"
             ]
            ],
            "type": "surface"
           }
          ],
          "table": [
           {
            "cells": {
             "fill": {
              "color": "#EBF0F8"
             },
             "line": {
              "color": "white"
             }
            },
            "header": {
             "fill": {
              "color": "#C8D4E3"
             },
             "line": {
              "color": "white"
             }
            },
            "type": "table"
           }
          ]
         },
         "layout": {
          "annotationdefaults": {
           "arrowcolor": "#2a3f5f",
           "arrowhead": 0,
           "arrowwidth": 1
          },
          "autotypenumbers": "strict",
          "coloraxis": {
           "colorbar": {
            "outlinewidth": 0,
            "ticks": ""
           }
          },
          "colorscale": {
           "diverging": [
            [
             0,
             "#8e0152"
            ],
            [
             0.1,
             "#c51b7d"
            ],
            [
             0.2,
             "#de77ae"
            ],
            [
             0.3,
             "#f1b6da"
            ],
            [
             0.4,
             "#fde0ef"
            ],
            [
             0.5,
             "#f7f7f7"
            ],
            [
             0.6,
             "#e6f5d0"
            ],
            [
             0.7,
             "#b8e186"
            ],
            [
             0.8,
             "#7fbc41"
            ],
            [
             0.9,
             "#4d9221"
            ],
            [
             1,
             "#276419"
            ]
           ],
           "sequential": [
            [
             0,
             "#0d0887"
            ],
            [
             0.1111111111111111,
             "#46039f"
            ],
            [
             0.2222222222222222,
             "#7201a8"
            ],
            [
             0.3333333333333333,
             "#9c179e"
            ],
            [
             0.4444444444444444,
             "#bd3786"
            ],
            [
             0.5555555555555556,
             "#d8576b"
            ],
            [
             0.6666666666666666,
             "#ed7953"
            ],
            [
             0.7777777777777778,
             "#fb9f3a"
            ],
            [
             0.8888888888888888,
             "#fdca26"
            ],
            [
             1,
             "#f0f921"
            ]
           ],
           "sequentialminus": [
            [
             0,
             "#0d0887"
            ],
            [
             0.1111111111111111,
             "#46039f"
            ],
            [
             0.2222222222222222,
             "#7201a8"
            ],
            [
             0.3333333333333333,
             "#9c179e"
            ],
            [
             0.4444444444444444,
             "#bd3786"
            ],
            [
             0.5555555555555556,
             "#d8576b"
            ],
            [
             0.6666666666666666,
             "#ed7953"
            ],
            [
             0.7777777777777778,
             "#fb9f3a"
            ],
            [
             0.8888888888888888,
             "#fdca26"
            ],
            [
             1,
             "#f0f921"
            ]
           ]
          },
          "colorway": [
           "#636efa",
           "#EF553B",
           "#00cc96",
           "#ab63fa",
           "#FFA15A",
           "#19d3f3",
           "#FF6692",
           "#B6E880",
           "#FF97FF",
           "#FECB52"
          ],
          "font": {
           "color": "#2a3f5f"
          },
          "geo": {
           "bgcolor": "white",
           "lakecolor": "white",
           "landcolor": "#E5ECF6",
           "showlakes": true,
           "showland": true,
           "subunitcolor": "white"
          },
          "hoverlabel": {
           "align": "left"
          },
          "hovermode": "closest",
          "mapbox": {
           "style": "light"
          },
          "paper_bgcolor": "white",
          "plot_bgcolor": "#E5ECF6",
          "polar": {
           "angularaxis": {
            "gridcolor": "white",
            "linecolor": "white",
            "ticks": ""
           },
           "bgcolor": "#E5ECF6",
           "radialaxis": {
            "gridcolor": "white",
            "linecolor": "white",
            "ticks": ""
           }
          },
          "scene": {
           "xaxis": {
            "backgroundcolor": "#E5ECF6",
            "gridcolor": "white",
            "gridwidth": 2,
            "linecolor": "white",
            "showbackground": true,
            "ticks": "",
            "zerolinecolor": "white"
           },
           "yaxis": {
            "backgroundcolor": "#E5ECF6",
            "gridcolor": "white",
            "gridwidth": 2,
            "linecolor": "white",
            "showbackground": true,
            "ticks": "",
            "zerolinecolor": "white"
           },
           "zaxis": {
            "backgroundcolor": "#E5ECF6",
            "gridcolor": "white",
            "gridwidth": 2,
            "linecolor": "white",
            "showbackground": true,
            "ticks": "",
            "zerolinecolor": "white"
           }
          },
          "shapedefaults": {
           "line": {
            "color": "#2a3f5f"
           }
          },
          "ternary": {
           "aaxis": {
            "gridcolor": "white",
            "linecolor": "white",
            "ticks": ""
           },
           "baxis": {
            "gridcolor": "white",
            "linecolor": "white",
            "ticks": ""
           },
           "bgcolor": "#E5ECF6",
           "caxis": {
            "gridcolor": "white",
            "linecolor": "white",
            "ticks": ""
           }
          },
          "title": {
           "x": 0.05
          },
          "xaxis": {
           "automargin": true,
           "gridcolor": "white",
           "linecolor": "white",
           "ticks": "",
           "title": {
            "standoff": 15
           },
           "zerolinecolor": "white",
           "zerolinewidth": 2
          },
          "yaxis": {
           "automargin": true,
           "gridcolor": "white",
           "linecolor": "white",
           "ticks": "",
           "title": {
            "standoff": 15
           },
           "zerolinecolor": "white",
           "zerolinewidth": 2
          }
         }
        },
        "title": {
         "text": "attn_head_out_act_patch_results Activation Patching"
        },
        "xaxis": {
         "anchor": "y",
         "constrain": "domain",
         "domain": [
          0,
          1
         ],
         "scaleanchor": "y",
         "title": {
          "text": "Position"
         }
        },
        "yaxis": {
         "anchor": "x",
         "autorange": "reversed",
         "constrain": "domain",
         "domain": [
          0,
          1
         ],
         "title": {
          "text": "Layer"
         }
        }
       }
      }
     },
     "metadata": {},
     "output_type": "display_data"
    }
   ],
   "source": [
    "imshow(attn_head_out_act_patch_results[:,1:9], \n",
    "       yaxis=\"Layer\", \n",
    "       xaxis=\"Position\", \n",
    "       x=[f\"{tok} {i}\" for i, tok in enumerate(model.to_str_tokens(clean_tokens[0][1:9]))],\n",
    "       title=\"attn_head_out_act_patch_results Activation Patching\")"
   ]
  },
  {
   "cell_type": "code",
   "execution_count": 40,
   "metadata": {},
   "outputs": [
    {
     "data": {
      "application/vnd.jupyter.widget-view+json": {
       "model_id": "887c7db4b9cb4071bd21b9b560b765e6",
       "version_major": 2,
       "version_minor": 0
      },
      "text/plain": [
       "  0%|          | 0/108 [00:00<?, ?it/s]"
      ]
     },
     "metadata": {},
     "output_type": "display_data"
    },
    {
     "data": {
      "application/vnd.jupyter.widget-view+json": {
       "model_id": "4699cb0df7434aa7bfea33449cacecec",
       "version_major": 2,
       "version_minor": 0
      },
      "text/plain": [
       "  0%|          | 0/108 [00:00<?, ?it/s]"
      ]
     },
     "metadata": {},
     "output_type": "display_data"
    },
    {
     "data": {
      "application/vnd.jupyter.widget-view+json": {
       "model_id": "bcddb005f46346ce86a6b81e0dfa28e6",
       "version_major": 2,
       "version_minor": 0
      },
      "text/plain": [
       "  0%|          | 0/108 [00:00<?, ?it/s]"
      ]
     },
     "metadata": {},
     "output_type": "display_data"
    },
    {
     "data": {
      "application/vnd.plotly.v1+json": {
       "config": {
        "plotlyServerURL": "https://plot.ly"
       },
       "data": [
        {
         "coloraxis": "coloraxis",
         "hovertemplate": "Position: %{x}<br>Layer: %{y}<br>color: %{z}<extra></extra>",
         "name": "0",
         "type": "heatmap",
         "x": [
          "<|endoftext|>_0",
          "The_1",
          " day_2",
          " is_3",
          " bright_4",
          " but_5",
          " the_6",
          " night_7",
          " is_8"
         ],
         "xaxis": "x",
         "yaxis": "y",
         "z": [
          [
           0,
           0,
           -0.025041991844773293,
           0,
           0,
           0,
           0,
           -0.7419922351837158,
           0.07439813017845154
          ],
          [
           0,
           0,
           -0.060845643281936646,
           -0.00863398052752018,
           -0.02877163514494896,
           0.007095634005963802,
           -0.0019086762331426144,
           -0.7427371740341187,
           0.10317513346672058
          ],
          [
           0,
           0,
           -0.10235510766506195,
           -0.008207885548472404,
           -0.058934710919857025,
           0.00004439621261553839,
           -0.006473184563219547,
           -0.8344224095344543,
           0.08315157890319824
          ],
          [
           0,
           0,
           -0.20498652756214142,
           -0.0051523069851100445,
           -0.016591280698776245,
           -0.01789681799709797,
           -0.0117766372859478,
           -0.8833205103874207,
           0.024148743599653244
          ],
          [
           0,
           0,
           -0.2586210370063782,
           -0.048715461045503616,
           -0.036162521690130234,
           -0.006309947464615107,
           -0.01668323017656803,
           -0.8391096591949463,
           -0.03627892583608627
          ],
          [
           0,
           0,
           -0.1282811462879181,
           -0.0423177145421505,
           0.06645987182855606,
           -0.06584066897630692,
           -0.0181402750313282,
           -0.8848527073860168,
           -0.17536433041095734
          ],
          [
           0,
           0,
           -0.10882207006216049,
           -0.001875649788416922,
           0.03099803254008293,
           -0.10371749848127365,
           -0.043466512113809586,
           -0.9882358312606812,
           -0.5451591610908508
          ],
          [
           0,
           0,
           0.004534910898655653,
           0.006274033337831497,
           -0.07210685312747955,
           -0.06745553761720657,
           -0.06607826054096222,
           -0.8645558953285217,
           -1.0006048679351807
          ],
          [
           0,
           0,
           0.021860623732209206,
           -0.006044743116945028,
           -0.09460598975419998,
           -0.02990834042429924,
           -0.030998121947050095,
           -0.7816067934036255,
           -1.1759724617004395
          ],
          [
           0,
           0,
           0.038265928626060486,
           -0.004094467964023352,
           0.01472032256424427,
           -0.009814450517296791,
           -0.04798536002635956,
           -0.6027061939239502,
           -1.3702327013015747
          ],
          [
           0,
           0,
           0.045794785022735596,
           0.001151053118519485,
           -0.023640532046556473,
           -0.008040768094360828,
           -0.026901578530669212,
           -0.29439643025398254,
           -1.5137428045272827
          ],
          [
           0,
           0,
           0.013371381908655167,
           -0.0016256954986602068,
           -0.03150876984000206,
           0.002137425122782588,
           0.005643553100526333,
           -0.19294296205043793,
           -1.4169247150421143
          ]
         ]
        },
        {
         "coloraxis": "coloraxis",
         "hovertemplate": "Position: %{x}<br>Layer: %{y}<br>color: %{z}<extra></extra>",
         "name": "1",
         "type": "heatmap",
         "x": [
          "<|endoftext|>_0",
          "The_1",
          " day_2",
          " is_3",
          " bright_4",
          " but_5",
          " the_6",
          " night_7",
          " is_8"
         ],
         "xaxis": "x2",
         "yaxis": "y2",
         "z": [
          [
           0,
           0,
           0.036688145250082016,
           -0.00863398052752018,
           -0.02877163514494896,
           0.007095634005963802,
           -0.0019086762331426144,
           0.11232860386371613,
           -0.004121177829802036
          ],
          [
           0,
           0,
           -0.0012386724120005965,
           -0.004389179404824972,
           -0.02663014829158783,
           -0.009108533151447773,
           -0.005290729459375143,
           -0.006750480271875858,
           -0.03301896154880524
          ],
          [
           0,
           0,
           -0.03293098136782646,
           -0.00040128041291609406,
           0.01717032678425312,
           -0.02057872898876667,
           -0.005971922539174557,
           -0.037406064569950104,
           -0.011758138425648212
          ],
          [
           0,
           0,
           -0.0010020730551332235,
           -0.002662419341504574,
           -0.046769607812166214,
           0.008132808841764927,
           -0.00043692372855730355,
           0.019341859966516495,
           -0.03738612309098244
          ],
          [
           0,
           0,
           -0.0011051228502765298,
           -0.013576668687164783,
           -0.019054006785154343,
           -0.05320615693926811,
           -0.0001269623462576419,
           -0.015328514389693737,
           -0.08050080388784409
          ],
          [
           0,
           0,
           -0.0014059703098610044,
           0.0023105882573872805,
           -0.03403330594301224,
           -0.05035378783941269,
           -0.03668336570262909,
           -0.24662944674491882,
           -0.24690286815166473
          ],
          [
           0,
           0,
           -0.0013952322769910097,
           0.009043111465871334,
           -0.024928294122219086,
           0.041440706700086594,
           -0.04228523001074791,
           -0.026019610464572906,
           -0.40387246012687683
          ],
          [
           0,
           0,
           0.0006278635119087994,
           -0.0006592657300643623,
           -0.014469556510448456,
           0.01088501326739788,
           0.018651733174920082,
           -0.012591560371220112,
           -0.17580178380012512
          ],
          [
           0,
           0,
           -0.0002318168117199093,
           0.0008771861903369427,
           -0.004902533255517483,
           -0.008101406507194042,
           -0.018030818551778793,
           -0.029590075835585594,
           -0.19377052783966064
          ],
          [
           0,
           0,
           0.001592398388311267,
           0.0023281844332814217,
           0.0003774580545723438,
           -0.0033651788253337145,
           -0.007777819875627756,
           -0.03596282750368118,
           -0.82857745885849
          ],
          [
           0,
           0,
           0.0006843514274805784,
           0.0002124160382663831,
           -0.002670360030606389,
           0.0004131915920879692,
           0.003371495520696044,
           0.003582918783649802,
           -0.14319737255573273
          ],
          [
           0,
           0,
           0,
           0,
           0,
           0,
           0,
           0,
           -0.25424304604530334
          ]
         ]
        },
        {
         "coloraxis": "coloraxis",
         "hovertemplate": "Position: %{x}<br>Layer: %{y}<br>color: %{z}<extra></extra>",
         "name": "2",
         "type": "heatmap",
         "x": [
          "<|endoftext|>_0",
          "The_1",
          " day_2",
          " is_3",
          " bright_4",
          " but_5",
          " the_6",
          " night_7",
          " is_8"
         ],
         "xaxis": "x3",
         "yaxis": "y3",
         "z": [
          [
           0,
           0,
           -0.06321632862091064,
           -0.007159340661019087,
           -0.014518644660711288,
           0.010347205214202404,
           0.00255675264634192,
           -0.7394787669181824,
           0.1483919620513916
          ],
          [
           0,
           0,
           -0.09262295812368393,
           0.008230624720454216,
           -0.004052147269248962,
           -0.0024046143516898155,
           0.0013861183542758226,
           -0.13143706321716309,
           -0.040544573217630386
          ],
          [
           0,
           0,
           -0.08651504665613174,
           0.006158711388707161,
           -0.0020113650243729353,
           -0.0024757205974310637,
           -0.0038142844568938017,
           -0.027809174731373787,
           -0.03580978885293007
          ],
          [
           0,
           0,
           -0.011209231801331043,
           0.039498552680015564,
           0.008908839896321297,
           0.012109157629311085,
           -0.007111876271665096,
           -0.11333956569433212,
           -0.0222889743745327
          ],
          [
           0,
           0,
           -0.0031961663626134396,
           0.006151582580059767,
           0.024900952354073524,
           -0.021570784971117973,
           0.00007029400876490399,
           0.006893324200063944,
           -0.0278782956302166
          ],
          [
           0,
           0,
           -0.04442211240530014,
           0.0324355848133564,
           0.0984908789396286,
           0.059784553945064545,
           0.01212476845830679,
           -0.2081228643655777,
           0.020343933254480362
          ],
          [
           0,
           0,
           -0.009958467446267605,
           0.021456094458699226,
           0.016888156533241272,
           0.08815228939056396,
           -0.02792142890393734,
           -0.004329984541982412,
           -0.04805673658847809
          ],
          [
           0,
           0,
           -0.00000261684999713907,
           0.008740640245378017,
           0.03447311744093895,
           0.034367721527814865,
           0.024040911346673965,
           -0.08563217520713806,
           0.16257500648498535
          ],
          [
           0,
           0,
           -0.0014416136546060443,
           -0.006710415706038475,
           -0.012371384538710117,
           0.007443313952535391,
           -0.02547702006995678,
           -0.10718075931072235,
           -0.3567955791950226
          ],
          [
           0,
           0,
           -0.004958840552717447,
           0.003301923396065831,
           -0.022320106625556946,
           -0.0014131892239674926,
           -0.0016806493513286114,
           -0.08818450570106506,
           -0.3158520758152008
          ],
          [
           0,
           0,
           -0.006709874141961336,
           0.0039724684320390224,
           -0.0028274613432586193,
           0.0016227177111431956,
           0.005481578875333071,
           0.0012891144724562764,
           -0.14695453643798828
          ],
          [
           0,
           0,
           0,
           0,
           0,
           0,
           0,
           0,
           0.03623894974589348
          ]
         ]
        }
       ],
       "layout": {
        "annotations": [
         {
          "font": {},
          "showarrow": false,
          "text": "facet_col=0",
          "x": 0.15999999999999998,
          "xanchor": "center",
          "xref": "paper",
          "y": 1,
          "yanchor": "bottom",
          "yref": "paper"
         },
         {
          "font": {},
          "showarrow": false,
          "text": "facet_col=1",
          "x": 0.49999999999999994,
          "xanchor": "center",
          "xref": "paper",
          "y": 1,
          "yanchor": "bottom",
          "yref": "paper"
         },
         {
          "font": {},
          "showarrow": false,
          "text": "facet_col=2",
          "x": 0.8399999999999999,
          "xanchor": "center",
          "xref": "paper",
          "y": 1,
          "yanchor": "bottom",
          "yref": "paper"
         }
        ],
        "coloraxis": {
         "cmax": 1,
         "cmid": 0,
         "cmin": -1,
         "colorscale": [
          [
           0,
           "rgb(103,0,31)"
          ],
          [
           0.1,
           "rgb(178,24,43)"
          ],
          [
           0.2,
           "rgb(214,96,77)"
          ],
          [
           0.3,
           "rgb(244,165,130)"
          ],
          [
           0.4,
           "rgb(253,219,199)"
          ],
          [
           0.5,
           "rgb(247,247,247)"
          ],
          [
           0.6,
           "rgb(209,229,240)"
          ],
          [
           0.7,
           "rgb(146,197,222)"
          ],
          [
           0.8,
           "rgb(67,147,195)"
          ],
          [
           0.9,
           "rgb(33,102,172)"
          ],
          [
           1,
           "rgb(5,48,97)"
          ]
         ]
        },
        "template": {
         "data": {
          "bar": [
           {
            "error_x": {
             "color": "#2a3f5f"
            },
            "error_y": {
             "color": "#2a3f5f"
            },
            "marker": {
             "line": {
              "color": "#E5ECF6",
              "width": 0.5
             },
             "pattern": {
              "fillmode": "overlay",
              "size": 10,
              "solidity": 0.2
             }
            },
            "type": "bar"
           }
          ],
          "barpolar": [
           {
            "marker": {
             "line": {
              "color": "#E5ECF6",
              "width": 0.5
             },
             "pattern": {
              "fillmode": "overlay",
              "size": 10,
              "solidity": 0.2
             }
            },
            "type": "barpolar"
           }
          ],
          "carpet": [
           {
            "aaxis": {
             "endlinecolor": "#2a3f5f",
             "gridcolor": "white",
             "linecolor": "white",
             "minorgridcolor": "white",
             "startlinecolor": "#2a3f5f"
            },
            "baxis": {
             "endlinecolor": "#2a3f5f",
             "gridcolor": "white",
             "linecolor": "white",
             "minorgridcolor": "white",
             "startlinecolor": "#2a3f5f"
            },
            "type": "carpet"
           }
          ],
          "choropleth": [
           {
            "colorbar": {
             "outlinewidth": 0,
             "ticks": ""
            },
            "type": "choropleth"
           }
          ],
          "contour": [
           {
            "colorbar": {
             "outlinewidth": 0,
             "ticks": ""
            },
            "colorscale": [
             [
              0,
              "#0d0887"
             ],
             [
              0.1111111111111111,
              "#46039f"
             ],
             [
              0.2222222222222222,
              "#7201a8"
             ],
             [
              0.3333333333333333,
              "#9c179e"
             ],
             [
              0.4444444444444444,
              "#bd3786"
             ],
             [
              0.5555555555555556,
              "#d8576b"
             ],
             [
              0.6666666666666666,
              "#ed7953"
             ],
             [
              0.7777777777777778,
              "#fb9f3a"
             ],
             [
              0.8888888888888888,
              "#fdca26"
             ],
             [
              1,
              "#f0f921"
             ]
            ],
            "type": "contour"
           }
          ],
          "contourcarpet": [
           {
            "colorbar": {
             "outlinewidth": 0,
             "ticks": ""
            },
            "type": "contourcarpet"
           }
          ],
          "heatmap": [
           {
            "colorbar": {
             "outlinewidth": 0,
             "ticks": ""
            },
            "colorscale": [
             [
              0,
              "#0d0887"
             ],
             [
              0.1111111111111111,
              "#46039f"
             ],
             [
              0.2222222222222222,
              "#7201a8"
             ],
             [
              0.3333333333333333,
              "#9c179e"
             ],
             [
              0.4444444444444444,
              "#bd3786"
             ],
             [
              0.5555555555555556,
              "#d8576b"
             ],
             [
              0.6666666666666666,
              "#ed7953"
             ],
             [
              0.7777777777777778,
              "#fb9f3a"
             ],
             [
              0.8888888888888888,
              "#fdca26"
             ],
             [
              1,
              "#f0f921"
             ]
            ],
            "type": "heatmap"
           }
          ],
          "heatmapgl": [
           {
            "colorbar": {
             "outlinewidth": 0,
             "ticks": ""
            },
            "colorscale": [
             [
              0,
              "#0d0887"
             ],
             [
              0.1111111111111111,
              "#46039f"
             ],
             [
              0.2222222222222222,
              "#7201a8"
             ],
             [
              0.3333333333333333,
              "#9c179e"
             ],
             [
              0.4444444444444444,
              "#bd3786"
             ],
             [
              0.5555555555555556,
              "#d8576b"
             ],
             [
              0.6666666666666666,
              "#ed7953"
             ],
             [
              0.7777777777777778,
              "#fb9f3a"
             ],
             [
              0.8888888888888888,
              "#fdca26"
             ],
             [
              1,
              "#f0f921"
             ]
            ],
            "type": "heatmapgl"
           }
          ],
          "histogram": [
           {
            "marker": {
             "pattern": {
              "fillmode": "overlay",
              "size": 10,
              "solidity": 0.2
             }
            },
            "type": "histogram"
           }
          ],
          "histogram2d": [
           {
            "colorbar": {
             "outlinewidth": 0,
             "ticks": ""
            },
            "colorscale": [
             [
              0,
              "#0d0887"
             ],
             [
              0.1111111111111111,
              "#46039f"
             ],
             [
              0.2222222222222222,
              "#7201a8"
             ],
             [
              0.3333333333333333,
              "#9c179e"
             ],
             [
              0.4444444444444444,
              "#bd3786"
             ],
             [
              0.5555555555555556,
              "#d8576b"
             ],
             [
              0.6666666666666666,
              "#ed7953"
             ],
             [
              0.7777777777777778,
              "#fb9f3a"
             ],
             [
              0.8888888888888888,
              "#fdca26"
             ],
             [
              1,
              "#f0f921"
             ]
            ],
            "type": "histogram2d"
           }
          ],
          "histogram2dcontour": [
           {
            "colorbar": {
             "outlinewidth": 0,
             "ticks": ""
            },
            "colorscale": [
             [
              0,
              "#0d0887"
             ],
             [
              0.1111111111111111,
              "#46039f"
             ],
             [
              0.2222222222222222,
              "#7201a8"
             ],
             [
              0.3333333333333333,
              "#9c179e"
             ],
             [
              0.4444444444444444,
              "#bd3786"
             ],
             [
              0.5555555555555556,
              "#d8576b"
             ],
             [
              0.6666666666666666,
              "#ed7953"
             ],
             [
              0.7777777777777778,
              "#fb9f3a"
             ],
             [
              0.8888888888888888,
              "#fdca26"
             ],
             [
              1,
              "#f0f921"
             ]
            ],
            "type": "histogram2dcontour"
           }
          ],
          "mesh3d": [
           {
            "colorbar": {
             "outlinewidth": 0,
             "ticks": ""
            },
            "type": "mesh3d"
           }
          ],
          "parcoords": [
           {
            "line": {
             "colorbar": {
              "outlinewidth": 0,
              "ticks": ""
             }
            },
            "type": "parcoords"
           }
          ],
          "pie": [
           {
            "automargin": true,
            "type": "pie"
           }
          ],
          "scatter": [
           {
            "fillpattern": {
             "fillmode": "overlay",
             "size": 10,
             "solidity": 0.2
            },
            "type": "scatter"
           }
          ],
          "scatter3d": [
           {
            "line": {
             "colorbar": {
              "outlinewidth": 0,
              "ticks": ""
             }
            },
            "marker": {
             "colorbar": {
              "outlinewidth": 0,
              "ticks": ""
             }
            },
            "type": "scatter3d"
           }
          ],
          "scattercarpet": [
           {
            "marker": {
             "colorbar": {
              "outlinewidth": 0,
              "ticks": ""
             }
            },
            "type": "scattercarpet"
           }
          ],
          "scattergeo": [
           {
            "marker": {
             "colorbar": {
              "outlinewidth": 0,
              "ticks": ""
             }
            },
            "type": "scattergeo"
           }
          ],
          "scattergl": [
           {
            "marker": {
             "colorbar": {
              "outlinewidth": 0,
              "ticks": ""
             }
            },
            "type": "scattergl"
           }
          ],
          "scattermapbox": [
           {
            "marker": {
             "colorbar": {
              "outlinewidth": 0,
              "ticks": ""
             }
            },
            "type": "scattermapbox"
           }
          ],
          "scatterpolar": [
           {
            "marker": {
             "colorbar": {
              "outlinewidth": 0,
              "ticks": ""
             }
            },
            "type": "scatterpolar"
           }
          ],
          "scatterpolargl": [
           {
            "marker": {
             "colorbar": {
              "outlinewidth": 0,
              "ticks": ""
             }
            },
            "type": "scatterpolargl"
           }
          ],
          "scatterternary": [
           {
            "marker": {
             "colorbar": {
              "outlinewidth": 0,
              "ticks": ""
             }
            },
            "type": "scatterternary"
           }
          ],
          "surface": [
           {
            "colorbar": {
             "outlinewidth": 0,
             "ticks": ""
            },
            "colorscale": [
             [
              0,
              "#0d0887"
             ],
             [
              0.1111111111111111,
              "#46039f"
             ],
             [
              0.2222222222222222,
              "#7201a8"
             ],
             [
              0.3333333333333333,
              "#9c179e"
             ],
             [
              0.4444444444444444,
              "#bd3786"
             ],
             [
              0.5555555555555556,
              "#d8576b"
             ],
             [
              0.6666666666666666,
              "#ed7953"
             ],
             [
              0.7777777777777778,
              "#fb9f3a"
             ],
             [
              0.8888888888888888,
              "#fdca26"
             ],
             [
              1,
              "#f0f921"
             ]
            ],
            "type": "surface"
           }
          ],
          "table": [
           {
            "cells": {
             "fill": {
              "color": "#EBF0F8"
             },
             "line": {
              "color": "white"
             }
            },
            "header": {
             "fill": {
              "color": "#C8D4E3"
             },
             "line": {
              "color": "white"
             }
            },
            "type": "table"
           }
          ]
         },
         "layout": {
          "annotationdefaults": {
           "arrowcolor": "#2a3f5f",
           "arrowhead": 0,
           "arrowwidth": 1
          },
          "autotypenumbers": "strict",
          "coloraxis": {
           "colorbar": {
            "outlinewidth": 0,
            "ticks": ""
           }
          },
          "colorscale": {
           "diverging": [
            [
             0,
             "#8e0152"
            ],
            [
             0.1,
             "#c51b7d"
            ],
            [
             0.2,
             "#de77ae"
            ],
            [
             0.3,
             "#f1b6da"
            ],
            [
             0.4,
             "#fde0ef"
            ],
            [
             0.5,
             "#f7f7f7"
            ],
            [
             0.6,
             "#e6f5d0"
            ],
            [
             0.7,
             "#b8e186"
            ],
            [
             0.8,
             "#7fbc41"
            ],
            [
             0.9,
             "#4d9221"
            ],
            [
             1,
             "#276419"
            ]
           ],
           "sequential": [
            [
             0,
             "#0d0887"
            ],
            [
             0.1111111111111111,
             "#46039f"
            ],
            [
             0.2222222222222222,
             "#7201a8"
            ],
            [
             0.3333333333333333,
             "#9c179e"
            ],
            [
             0.4444444444444444,
             "#bd3786"
            ],
            [
             0.5555555555555556,
             "#d8576b"
            ],
            [
             0.6666666666666666,
             "#ed7953"
            ],
            [
             0.7777777777777778,
             "#fb9f3a"
            ],
            [
             0.8888888888888888,
             "#fdca26"
            ],
            [
             1,
             "#f0f921"
            ]
           ],
           "sequentialminus": [
            [
             0,
             "#0d0887"
            ],
            [
             0.1111111111111111,
             "#46039f"
            ],
            [
             0.2222222222222222,
             "#7201a8"
            ],
            [
             0.3333333333333333,
             "#9c179e"
            ],
            [
             0.4444444444444444,
             "#bd3786"
            ],
            [
             0.5555555555555556,
             "#d8576b"
            ],
            [
             0.6666666666666666,
             "#ed7953"
            ],
            [
             0.7777777777777778,
             "#fb9f3a"
            ],
            [
             0.8888888888888888,
             "#fdca26"
            ],
            [
             1,
             "#f0f921"
            ]
           ]
          },
          "colorway": [
           "#636efa",
           "#EF553B",
           "#00cc96",
           "#ab63fa",
           "#FFA15A",
           "#19d3f3",
           "#FF6692",
           "#B6E880",
           "#FF97FF",
           "#FECB52"
          ],
          "font": {
           "color": "#2a3f5f"
          },
          "geo": {
           "bgcolor": "white",
           "lakecolor": "white",
           "landcolor": "#E5ECF6",
           "showlakes": true,
           "showland": true,
           "subunitcolor": "white"
          },
          "hoverlabel": {
           "align": "left"
          },
          "hovermode": "closest",
          "mapbox": {
           "style": "light"
          },
          "paper_bgcolor": "white",
          "plot_bgcolor": "#E5ECF6",
          "polar": {
           "angularaxis": {
            "gridcolor": "white",
            "linecolor": "white",
            "ticks": ""
           },
           "bgcolor": "#E5ECF6",
           "radialaxis": {
            "gridcolor": "white",
            "linecolor": "white",
            "ticks": ""
           }
          },
          "scene": {
           "xaxis": {
            "backgroundcolor": "#E5ECF6",
            "gridcolor": "white",
            "gridwidth": 2,
            "linecolor": "white",
            "showbackground": true,
            "ticks": "",
            "zerolinecolor": "white"
           },
           "yaxis": {
            "backgroundcolor": "#E5ECF6",
            "gridcolor": "white",
            "gridwidth": 2,
            "linecolor": "white",
            "showbackground": true,
            "ticks": "",
            "zerolinecolor": "white"
           },
           "zaxis": {
            "backgroundcolor": "#E5ECF6",
            "gridcolor": "white",
            "gridwidth": 2,
            "linecolor": "white",
            "showbackground": true,
            "ticks": "",
            "zerolinecolor": "white"
           }
          },
          "shapedefaults": {
           "line": {
            "color": "#2a3f5f"
           }
          },
          "ternary": {
           "aaxis": {
            "gridcolor": "white",
            "linecolor": "white",
            "ticks": ""
           },
           "baxis": {
            "gridcolor": "white",
            "linecolor": "white",
            "ticks": ""
           },
           "bgcolor": "#E5ECF6",
           "caxis": {
            "gridcolor": "white",
            "linecolor": "white",
            "ticks": ""
           }
          },
          "title": {
           "x": 0.05
          },
          "xaxis": {
           "automargin": true,
           "gridcolor": "white",
           "linecolor": "white",
           "ticks": "",
           "title": {
            "standoff": 15
           },
           "zerolinecolor": "white",
           "zerolinewidth": 2
          },
          "yaxis": {
           "automargin": true,
           "gridcolor": "white",
           "linecolor": "white",
           "ticks": "",
           "title": {
            "standoff": 15
           },
           "zerolinecolor": "white",
           "zerolinewidth": 2
          }
         }
        },
        "title": {
         "text": "Activation Patching Per Block"
        },
        "xaxis": {
         "anchor": "y",
         "constrain": "domain",
         "domain": [
          0,
          0.31999999999999995
         ],
         "scaleanchor": "y",
         "title": {
          "text": "Position"
         }
        },
        "xaxis2": {
         "anchor": "y2",
         "domain": [
          0.33999999999999997,
          0.6599999999999999
         ],
         "matches": "x",
         "title": {
          "text": "Position"
         }
        },
        "xaxis3": {
         "anchor": "y3",
         "domain": [
          0.6799999999999999,
          0.9999999999999999
         ],
         "matches": "x",
         "title": {
          "text": "Position"
         }
        },
        "yaxis": {
         "anchor": "x",
         "autorange": "reversed",
         "constrain": "domain",
         "domain": [
          0,
          1
         ],
         "title": {
          "text": "Layer"
         }
        },
        "yaxis2": {
         "anchor": "x2",
         "domain": [
          0,
          1
         ],
         "matches": "y",
         "showticklabels": false
        },
        "yaxis3": {
         "anchor": "x3",
         "domain": [
          0,
          1
         ],
         "matches": "y",
         "showticklabels": false
        }
       }
      }
     },
     "metadata": {},
     "output_type": "display_data"
    }
   ],
   "source": [
    "#[\"Residual Stream\", \"Attn Output\", \"MLP Output\"]\n",
    "\n",
    "every_block_result = patching.get_act_patch_block_every(model, corrupted_tokens, clean_cache, sb_metric)\n"
   ]
  },
  {
   "cell_type": "code",
   "execution_count": 41,
   "metadata": {},
   "outputs": [
    {
     "data": {
      "application/vnd.plotly.v1+json": {
       "config": {
        "plotlyServerURL": "https://plot.ly"
       },
       "data": [
        {
         "coloraxis": "coloraxis",
         "hovertemplate": "Position: %{x}<br>Layer: %{y}<br>color: %{z}<extra></extra>",
         "name": "0",
         "type": "heatmap",
         "x": [
          "<|endoftext|>_0",
          "The_1",
          " day_2",
          " is_3",
          " bright_4",
          " but_5",
          " the_6",
          " night_7",
          " is_8"
         ],
         "xaxis": "x",
         "yaxis": "y",
         "z": [
          [
           0,
           0,
           -0.025041991844773293,
           0,
           0,
           0,
           0,
           -0.7419922351837158,
           0.07439813017845154
          ],
          [
           0,
           0,
           -0.060845643281936646,
           -0.00863398052752018,
           -0.02877163514494896,
           0.007095634005963802,
           -0.0019086762331426144,
           -0.7427371740341187,
           0.10317513346672058
          ],
          [
           0,
           0,
           -0.10235510766506195,
           -0.008207885548472404,
           -0.058934710919857025,
           0.00004439621261553839,
           -0.006473184563219547,
           -0.8344224095344543,
           0.08315157890319824
          ],
          [
           0,
           0,
           -0.20498652756214142,
           -0.0051523069851100445,
           -0.016591280698776245,
           -0.01789681799709797,
           -0.0117766372859478,
           -0.8833205103874207,
           0.024148743599653244
          ],
          [
           0,
           0,
           -0.2586210370063782,
           -0.048715461045503616,
           -0.036162521690130234,
           -0.006309947464615107,
           -0.01668323017656803,
           -0.8391096591949463,
           -0.03627892583608627
          ],
          [
           0,
           0,
           -0.1282811462879181,
           -0.0423177145421505,
           0.06645987182855606,
           -0.06584066897630692,
           -0.0181402750313282,
           -0.8848527073860168,
           -0.17536433041095734
          ],
          [
           0,
           0,
           -0.10882207006216049,
           -0.001875649788416922,
           0.03099803254008293,
           -0.10371749848127365,
           -0.043466512113809586,
           -0.9882358312606812,
           -0.5451591610908508
          ],
          [
           0,
           0,
           0.004534910898655653,
           0.006274033337831497,
           -0.07210685312747955,
           -0.06745553761720657,
           -0.06607826054096222,
           -0.8645558953285217,
           -1.0006048679351807
          ],
          [
           0,
           0,
           0.021860623732209206,
           -0.006044743116945028,
           -0.09460598975419998,
           -0.02990834042429924,
           -0.030998121947050095,
           -0.7816067934036255,
           -1.1759724617004395
          ],
          [
           0,
           0,
           0.038265928626060486,
           -0.004094467964023352,
           0.01472032256424427,
           -0.009814450517296791,
           -0.04798536002635956,
           -0.6027061939239502,
           -1.3702327013015747
          ],
          [
           0,
           0,
           0.045794785022735596,
           0.001151053118519485,
           -0.023640532046556473,
           -0.008040768094360828,
           -0.026901578530669212,
           -0.29439643025398254,
           -1.5137428045272827
          ],
          [
           0,
           0,
           0.013371381908655167,
           -0.0016256954986602068,
           -0.03150876984000206,
           0.002137425122782588,
           0.005643553100526333,
           -0.19294296205043793,
           -1.4169247150421143
          ]
         ]
        },
        {
         "coloraxis": "coloraxis",
         "hovertemplate": "Position: %{x}<br>Layer: %{y}<br>color: %{z}<extra></extra>",
         "name": "1",
         "type": "heatmap",
         "x": [
          "<|endoftext|>_0",
          "The_1",
          " day_2",
          " is_3",
          " bright_4",
          " but_5",
          " the_6",
          " night_7",
          " is_8"
         ],
         "xaxis": "x2",
         "yaxis": "y2",
         "z": [
          [
           0,
           0,
           0.036688145250082016,
           -0.00863398052752018,
           -0.02877163514494896,
           0.007095634005963802,
           -0.0019086762331426144,
           0.11232860386371613,
           -0.004121177829802036
          ],
          [
           0,
           0,
           -0.0012386724120005965,
           -0.004389179404824972,
           -0.02663014829158783,
           -0.009108533151447773,
           -0.005290729459375143,
           -0.006750480271875858,
           -0.03301896154880524
          ],
          [
           0,
           0,
           -0.03293098136782646,
           -0.00040128041291609406,
           0.01717032678425312,
           -0.02057872898876667,
           -0.005971922539174557,
           -0.037406064569950104,
           -0.011758138425648212
          ],
          [
           0,
           0,
           -0.0010020730551332235,
           -0.002662419341504574,
           -0.046769607812166214,
           0.008132808841764927,
           -0.00043692372855730355,
           0.019341859966516495,
           -0.03738612309098244
          ],
          [
           0,
           0,
           -0.0011051228502765298,
           -0.013576668687164783,
           -0.019054006785154343,
           -0.05320615693926811,
           -0.0001269623462576419,
           -0.015328514389693737,
           -0.08050080388784409
          ],
          [
           0,
           0,
           -0.0014059703098610044,
           0.0023105882573872805,
           -0.03403330594301224,
           -0.05035378783941269,
           -0.03668336570262909,
           -0.24662944674491882,
           -0.24690286815166473
          ],
          [
           0,
           0,
           -0.0013952322769910097,
           0.009043111465871334,
           -0.024928294122219086,
           0.041440706700086594,
           -0.04228523001074791,
           -0.026019610464572906,
           -0.40387246012687683
          ],
          [
           0,
           0,
           0.0006278635119087994,
           -0.0006592657300643623,
           -0.014469556510448456,
           0.01088501326739788,
           0.018651733174920082,
           -0.012591560371220112,
           -0.17580178380012512
          ],
          [
           0,
           0,
           -0.0002318168117199093,
           0.0008771861903369427,
           -0.004902533255517483,
           -0.008101406507194042,
           -0.018030818551778793,
           -0.029590075835585594,
           -0.19377052783966064
          ],
          [
           0,
           0,
           0.001592398388311267,
           0.0023281844332814217,
           0.0003774580545723438,
           -0.0033651788253337145,
           -0.007777819875627756,
           -0.03596282750368118,
           -0.82857745885849
          ],
          [
           0,
           0,
           0.0006843514274805784,
           0.0002124160382663831,
           -0.002670360030606389,
           0.0004131915920879692,
           0.003371495520696044,
           0.003582918783649802,
           -0.14319737255573273
          ],
          [
           0,
           0,
           0,
           0,
           0,
           0,
           0,
           0,
           -0.25424304604530334
          ]
         ]
        },
        {
         "coloraxis": "coloraxis",
         "hovertemplate": "Position: %{x}<br>Layer: %{y}<br>color: %{z}<extra></extra>",
         "name": "2",
         "type": "heatmap",
         "x": [
          "<|endoftext|>_0",
          "The_1",
          " day_2",
          " is_3",
          " bright_4",
          " but_5",
          " the_6",
          " night_7",
          " is_8"
         ],
         "xaxis": "x3",
         "yaxis": "y3",
         "z": [
          [
           0,
           0,
           -0.06321632862091064,
           -0.007159340661019087,
           -0.014518644660711288,
           0.010347205214202404,
           0.00255675264634192,
           -0.7394787669181824,
           0.1483919620513916
          ],
          [
           0,
           0,
           -0.09262295812368393,
           0.008230624720454216,
           -0.004052147269248962,
           -0.0024046143516898155,
           0.0013861183542758226,
           -0.13143706321716309,
           -0.040544573217630386
          ],
          [
           0,
           0,
           -0.08651504665613174,
           0.006158711388707161,
           -0.0020113650243729353,
           -0.0024757205974310637,
           -0.0038142844568938017,
           -0.027809174731373787,
           -0.03580978885293007
          ],
          [
           0,
           0,
           -0.011209231801331043,
           0.039498552680015564,
           0.008908839896321297,
           0.012109157629311085,
           -0.007111876271665096,
           -0.11333956569433212,
           -0.0222889743745327
          ],
          [
           0,
           0,
           -0.0031961663626134396,
           0.006151582580059767,
           0.024900952354073524,
           -0.021570784971117973,
           0.00007029400876490399,
           0.006893324200063944,
           -0.0278782956302166
          ],
          [
           0,
           0,
           -0.04442211240530014,
           0.0324355848133564,
           0.0984908789396286,
           0.059784553945064545,
           0.01212476845830679,
           -0.2081228643655777,
           0.020343933254480362
          ],
          [
           0,
           0,
           -0.009958467446267605,
           0.021456094458699226,
           0.016888156533241272,
           0.08815228939056396,
           -0.02792142890393734,
           -0.004329984541982412,
           -0.04805673658847809
          ],
          [
           0,
           0,
           -0.00000261684999713907,
           0.008740640245378017,
           0.03447311744093895,
           0.034367721527814865,
           0.024040911346673965,
           -0.08563217520713806,
           0.16257500648498535
          ],
          [
           0,
           0,
           -0.0014416136546060443,
           -0.006710415706038475,
           -0.012371384538710117,
           0.007443313952535391,
           -0.02547702006995678,
           -0.10718075931072235,
           -0.3567955791950226
          ],
          [
           0,
           0,
           -0.004958840552717447,
           0.003301923396065831,
           -0.022320106625556946,
           -0.0014131892239674926,
           -0.0016806493513286114,
           -0.08818450570106506,
           -0.3158520758152008
          ],
          [
           0,
           0,
           -0.006709874141961336,
           0.0039724684320390224,
           -0.0028274613432586193,
           0.0016227177111431956,
           0.005481578875333071,
           0.0012891144724562764,
           -0.14695453643798828
          ],
          [
           0,
           0,
           0,
           0,
           0,
           0,
           0,
           0,
           0.03623894974589348
          ]
         ]
        }
       ],
       "layout": {
        "annotations": [
         {
          "font": {},
          "showarrow": false,
          "text": "facet_col=0",
          "x": 0.15999999999999998,
          "xanchor": "center",
          "xref": "paper",
          "y": 1,
          "yanchor": "bottom",
          "yref": "paper"
         },
         {
          "font": {},
          "showarrow": false,
          "text": "facet_col=1",
          "x": 0.49999999999999994,
          "xanchor": "center",
          "xref": "paper",
          "y": 1,
          "yanchor": "bottom",
          "yref": "paper"
         },
         {
          "font": {},
          "showarrow": false,
          "text": "facet_col=2",
          "x": 0.8399999999999999,
          "xanchor": "center",
          "xref": "paper",
          "y": 1,
          "yanchor": "bottom",
          "yref": "paper"
         }
        ],
        "coloraxis": {
         "cmax": 1,
         "cmid": 0,
         "cmin": -1,
         "colorscale": [
          [
           0,
           "rgb(103,0,31)"
          ],
          [
           0.1,
           "rgb(178,24,43)"
          ],
          [
           0.2,
           "rgb(214,96,77)"
          ],
          [
           0.3,
           "rgb(244,165,130)"
          ],
          [
           0.4,
           "rgb(253,219,199)"
          ],
          [
           0.5,
           "rgb(247,247,247)"
          ],
          [
           0.6,
           "rgb(209,229,240)"
          ],
          [
           0.7,
           "rgb(146,197,222)"
          ],
          [
           0.8,
           "rgb(67,147,195)"
          ],
          [
           0.9,
           "rgb(33,102,172)"
          ],
          [
           1,
           "rgb(5,48,97)"
          ]
         ]
        },
        "template": {
         "data": {
          "bar": [
           {
            "error_x": {
             "color": "#2a3f5f"
            },
            "error_y": {
             "color": "#2a3f5f"
            },
            "marker": {
             "line": {
              "color": "#E5ECF6",
              "width": 0.5
             },
             "pattern": {
              "fillmode": "overlay",
              "size": 10,
              "solidity": 0.2
             }
            },
            "type": "bar"
           }
          ],
          "barpolar": [
           {
            "marker": {
             "line": {
              "color": "#E5ECF6",
              "width": 0.5
             },
             "pattern": {
              "fillmode": "overlay",
              "size": 10,
              "solidity": 0.2
             }
            },
            "type": "barpolar"
           }
          ],
          "carpet": [
           {
            "aaxis": {
             "endlinecolor": "#2a3f5f",
             "gridcolor": "white",
             "linecolor": "white",
             "minorgridcolor": "white",
             "startlinecolor": "#2a3f5f"
            },
            "baxis": {
             "endlinecolor": "#2a3f5f",
             "gridcolor": "white",
             "linecolor": "white",
             "minorgridcolor": "white",
             "startlinecolor": "#2a3f5f"
            },
            "type": "carpet"
           }
          ],
          "choropleth": [
           {
            "colorbar": {
             "outlinewidth": 0,
             "ticks": ""
            },
            "type": "choropleth"
           }
          ],
          "contour": [
           {
            "colorbar": {
             "outlinewidth": 0,
             "ticks": ""
            },
            "colorscale": [
             [
              0,
              "#0d0887"
             ],
             [
              0.1111111111111111,
              "#46039f"
             ],
             [
              0.2222222222222222,
              "#7201a8"
             ],
             [
              0.3333333333333333,
              "#9c179e"
             ],
             [
              0.4444444444444444,
              "#bd3786"
             ],
             [
              0.5555555555555556,
              "#d8576b"
             ],
             [
              0.6666666666666666,
              "#ed7953"
             ],
             [
              0.7777777777777778,
              "#fb9f3a"
             ],
             [
              0.8888888888888888,
              "#fdca26"
             ],
             [
              1,
              "#f0f921"
             ]
            ],
            "type": "contour"
           }
          ],
          "contourcarpet": [
           {
            "colorbar": {
             "outlinewidth": 0,
             "ticks": ""
            },
            "type": "contourcarpet"
           }
          ],
          "heatmap": [
           {
            "colorbar": {
             "outlinewidth": 0,
             "ticks": ""
            },
            "colorscale": [
             [
              0,
              "#0d0887"
             ],
             [
              0.1111111111111111,
              "#46039f"
             ],
             [
              0.2222222222222222,
              "#7201a8"
             ],
             [
              0.3333333333333333,
              "#9c179e"
             ],
             [
              0.4444444444444444,
              "#bd3786"
             ],
             [
              0.5555555555555556,
              "#d8576b"
             ],
             [
              0.6666666666666666,
              "#ed7953"
             ],
             [
              0.7777777777777778,
              "#fb9f3a"
             ],
             [
              0.8888888888888888,
              "#fdca26"
             ],
             [
              1,
              "#f0f921"
             ]
            ],
            "type": "heatmap"
           }
          ],
          "heatmapgl": [
           {
            "colorbar": {
             "outlinewidth": 0,
             "ticks": ""
            },
            "colorscale": [
             [
              0,
              "#0d0887"
             ],
             [
              0.1111111111111111,
              "#46039f"
             ],
             [
              0.2222222222222222,
              "#7201a8"
             ],
             [
              0.3333333333333333,
              "#9c179e"
             ],
             [
              0.4444444444444444,
              "#bd3786"
             ],
             [
              0.5555555555555556,
              "#d8576b"
             ],
             [
              0.6666666666666666,
              "#ed7953"
             ],
             [
              0.7777777777777778,
              "#fb9f3a"
             ],
             [
              0.8888888888888888,
              "#fdca26"
             ],
             [
              1,
              "#f0f921"
             ]
            ],
            "type": "heatmapgl"
           }
          ],
          "histogram": [
           {
            "marker": {
             "pattern": {
              "fillmode": "overlay",
              "size": 10,
              "solidity": 0.2
             }
            },
            "type": "histogram"
           }
          ],
          "histogram2d": [
           {
            "colorbar": {
             "outlinewidth": 0,
             "ticks": ""
            },
            "colorscale": [
             [
              0,
              "#0d0887"
             ],
             [
              0.1111111111111111,
              "#46039f"
             ],
             [
              0.2222222222222222,
              "#7201a8"
             ],
             [
              0.3333333333333333,
              "#9c179e"
             ],
             [
              0.4444444444444444,
              "#bd3786"
             ],
             [
              0.5555555555555556,
              "#d8576b"
             ],
             [
              0.6666666666666666,
              "#ed7953"
             ],
             [
              0.7777777777777778,
              "#fb9f3a"
             ],
             [
              0.8888888888888888,
              "#fdca26"
             ],
             [
              1,
              "#f0f921"
             ]
            ],
            "type": "histogram2d"
           }
          ],
          "histogram2dcontour": [
           {
            "colorbar": {
             "outlinewidth": 0,
             "ticks": ""
            },
            "colorscale": [
             [
              0,
              "#0d0887"
             ],
             [
              0.1111111111111111,
              "#46039f"
             ],
             [
              0.2222222222222222,
              "#7201a8"
             ],
             [
              0.3333333333333333,
              "#9c179e"
             ],
             [
              0.4444444444444444,
              "#bd3786"
             ],
             [
              0.5555555555555556,
              "#d8576b"
             ],
             [
              0.6666666666666666,
              "#ed7953"
             ],
             [
              0.7777777777777778,
              "#fb9f3a"
             ],
             [
              0.8888888888888888,
              "#fdca26"
             ],
             [
              1,
              "#f0f921"
             ]
            ],
            "type": "histogram2dcontour"
           }
          ],
          "mesh3d": [
           {
            "colorbar": {
             "outlinewidth": 0,
             "ticks": ""
            },
            "type": "mesh3d"
           }
          ],
          "parcoords": [
           {
            "line": {
             "colorbar": {
              "outlinewidth": 0,
              "ticks": ""
             }
            },
            "type": "parcoords"
           }
          ],
          "pie": [
           {
            "automargin": true,
            "type": "pie"
           }
          ],
          "scatter": [
           {
            "fillpattern": {
             "fillmode": "overlay",
             "size": 10,
             "solidity": 0.2
            },
            "type": "scatter"
           }
          ],
          "scatter3d": [
           {
            "line": {
             "colorbar": {
              "outlinewidth": 0,
              "ticks": ""
             }
            },
            "marker": {
             "colorbar": {
              "outlinewidth": 0,
              "ticks": ""
             }
            },
            "type": "scatter3d"
           }
          ],
          "scattercarpet": [
           {
            "marker": {
             "colorbar": {
              "outlinewidth": 0,
              "ticks": ""
             }
            },
            "type": "scattercarpet"
           }
          ],
          "scattergeo": [
           {
            "marker": {
             "colorbar": {
              "outlinewidth": 0,
              "ticks": ""
             }
            },
            "type": "scattergeo"
           }
          ],
          "scattergl": [
           {
            "marker": {
             "colorbar": {
              "outlinewidth": 0,
              "ticks": ""
             }
            },
            "type": "scattergl"
           }
          ],
          "scattermapbox": [
           {
            "marker": {
             "colorbar": {
              "outlinewidth": 0,
              "ticks": ""
             }
            },
            "type": "scattermapbox"
           }
          ],
          "scatterpolar": [
           {
            "marker": {
             "colorbar": {
              "outlinewidth": 0,
              "ticks": ""
             }
            },
            "type": "scatterpolar"
           }
          ],
          "scatterpolargl": [
           {
            "marker": {
             "colorbar": {
              "outlinewidth": 0,
              "ticks": ""
             }
            },
            "type": "scatterpolargl"
           }
          ],
          "scatterternary": [
           {
            "marker": {
             "colorbar": {
              "outlinewidth": 0,
              "ticks": ""
             }
            },
            "type": "scatterternary"
           }
          ],
          "surface": [
           {
            "colorbar": {
             "outlinewidth": 0,
             "ticks": ""
            },
            "colorscale": [
             [
              0,
              "#0d0887"
             ],
             [
              0.1111111111111111,
              "#46039f"
             ],
             [
              0.2222222222222222,
              "#7201a8"
             ],
             [
              0.3333333333333333,
              "#9c179e"
             ],
             [
              0.4444444444444444,
              "#bd3786"
             ],
             [
              0.5555555555555556,
              "#d8576b"
             ],
             [
              0.6666666666666666,
              "#ed7953"
             ],
             [
              0.7777777777777778,
              "#fb9f3a"
             ],
             [
              0.8888888888888888,
              "#fdca26"
             ],
             [
              1,
              "#f0f921"
             ]
            ],
            "type": "surface"
           }
          ],
          "table": [
           {
            "cells": {
             "fill": {
              "color": "#EBF0F8"
             },
             "line": {
              "color": "white"
             }
            },
            "header": {
             "fill": {
              "color": "#C8D4E3"
             },
             "line": {
              "color": "white"
             }
            },
            "type": "table"
           }
          ]
         },
         "layout": {
          "annotationdefaults": {
           "arrowcolor": "#2a3f5f",
           "arrowhead": 0,
           "arrowwidth": 1
          },
          "autotypenumbers": "strict",
          "coloraxis": {
           "colorbar": {
            "outlinewidth": 0,
            "ticks": ""
           }
          },
          "colorscale": {
           "diverging": [
            [
             0,
             "#8e0152"
            ],
            [
             0.1,
             "#c51b7d"
            ],
            [
             0.2,
             "#de77ae"
            ],
            [
             0.3,
             "#f1b6da"
            ],
            [
             0.4,
             "#fde0ef"
            ],
            [
             0.5,
             "#f7f7f7"
            ],
            [
             0.6,
             "#e6f5d0"
            ],
            [
             0.7,
             "#b8e186"
            ],
            [
             0.8,
             "#7fbc41"
            ],
            [
             0.9,
             "#4d9221"
            ],
            [
             1,
             "#276419"
            ]
           ],
           "sequential": [
            [
             0,
             "#0d0887"
            ],
            [
             0.1111111111111111,
             "#46039f"
            ],
            [
             0.2222222222222222,
             "#7201a8"
            ],
            [
             0.3333333333333333,
             "#9c179e"
            ],
            [
             0.4444444444444444,
             "#bd3786"
            ],
            [
             0.5555555555555556,
             "#d8576b"
            ],
            [
             0.6666666666666666,
             "#ed7953"
            ],
            [
             0.7777777777777778,
             "#fb9f3a"
            ],
            [
             0.8888888888888888,
             "#fdca26"
            ],
            [
             1,
             "#f0f921"
            ]
           ],
           "sequentialminus": [
            [
             0,
             "#0d0887"
            ],
            [
             0.1111111111111111,
             "#46039f"
            ],
            [
             0.2222222222222222,
             "#7201a8"
            ],
            [
             0.3333333333333333,
             "#9c179e"
            ],
            [
             0.4444444444444444,
             "#bd3786"
            ],
            [
             0.5555555555555556,
             "#d8576b"
            ],
            [
             0.6666666666666666,
             "#ed7953"
            ],
            [
             0.7777777777777778,
             "#fb9f3a"
            ],
            [
             0.8888888888888888,
             "#fdca26"
            ],
            [
             1,
             "#f0f921"
            ]
           ]
          },
          "colorway": [
           "#636efa",
           "#EF553B",
           "#00cc96",
           "#ab63fa",
           "#FFA15A",
           "#19d3f3",
           "#FF6692",
           "#B6E880",
           "#FF97FF",
           "#FECB52"
          ],
          "font": {
           "color": "#2a3f5f"
          },
          "geo": {
           "bgcolor": "white",
           "lakecolor": "white",
           "landcolor": "#E5ECF6",
           "showlakes": true,
           "showland": true,
           "subunitcolor": "white"
          },
          "hoverlabel": {
           "align": "left"
          },
          "hovermode": "closest",
          "mapbox": {
           "style": "light"
          },
          "paper_bgcolor": "white",
          "plot_bgcolor": "#E5ECF6",
          "polar": {
           "angularaxis": {
            "gridcolor": "white",
            "linecolor": "white",
            "ticks": ""
           },
           "bgcolor": "#E5ECF6",
           "radialaxis": {
            "gridcolor": "white",
            "linecolor": "white",
            "ticks": ""
           }
          },
          "scene": {
           "xaxis": {
            "backgroundcolor": "#E5ECF6",
            "gridcolor": "white",
            "gridwidth": 2,
            "linecolor": "white",
            "showbackground": true,
            "ticks": "",
            "zerolinecolor": "white"
           },
           "yaxis": {
            "backgroundcolor": "#E5ECF6",
            "gridcolor": "white",
            "gridwidth": 2,
            "linecolor": "white",
            "showbackground": true,
            "ticks": "",
            "zerolinecolor": "white"
           },
           "zaxis": {
            "backgroundcolor": "#E5ECF6",
            "gridcolor": "white",
            "gridwidth": 2,
            "linecolor": "white",
            "showbackground": true,
            "ticks": "",
            "zerolinecolor": "white"
           }
          },
          "shapedefaults": {
           "line": {
            "color": "#2a3f5f"
           }
          },
          "ternary": {
           "aaxis": {
            "gridcolor": "white",
            "linecolor": "white",
            "ticks": ""
           },
           "baxis": {
            "gridcolor": "white",
            "linecolor": "white",
            "ticks": ""
           },
           "bgcolor": "#E5ECF6",
           "caxis": {
            "gridcolor": "white",
            "linecolor": "white",
            "ticks": ""
           }
          },
          "title": {
           "x": 0.05
          },
          "xaxis": {
           "automargin": true,
           "gridcolor": "white",
           "linecolor": "white",
           "ticks": "",
           "title": {
            "standoff": 15
           },
           "zerolinecolor": "white",
           "zerolinewidth": 2
          },
          "yaxis": {
           "automargin": true,
           "gridcolor": "white",
           "linecolor": "white",
           "ticks": "",
           "title": {
            "standoff": 15
           },
           "zerolinecolor": "white",
           "zerolinewidth": 2
          }
         }
        },
        "title": {
         "text": "Activation Patching Per Block"
        },
        "xaxis": {
         "anchor": "y",
         "constrain": "domain",
         "domain": [
          0,
          0.31999999999999995
         ],
         "scaleanchor": "y",
         "title": {
          "text": "Position"
         }
        },
        "xaxis2": {
         "anchor": "y2",
         "domain": [
          0.33999999999999997,
          0.6599999999999999
         ],
         "matches": "x",
         "title": {
          "text": "Position"
         }
        },
        "xaxis3": {
         "anchor": "y3",
         "domain": [
          0.6799999999999999,
          0.9999999999999999
         ],
         "matches": "x",
         "title": {
          "text": "Position"
         }
        },
        "yaxis": {
         "anchor": "x",
         "autorange": "reversed",
         "constrain": "domain",
         "domain": [
          0,
          1
         ],
         "title": {
          "text": "Layer"
         }
        },
        "yaxis2": {
         "anchor": "x2",
         "domain": [
          0,
          1
         ],
         "matches": "y",
         "showticklabels": false
        },
        "yaxis3": {
         "anchor": "x3",
         "domain": [
          0,
          1
         ],
         "matches": "y",
         "showticklabels": false
        }
       }
      }
     },
     "metadata": {},
     "output_type": "display_data"
    }
   ],
   "source": [
    "imshow(every_block_result, facet_col=0, title=\"Activation Patching Per Block\", xaxis=\"Position\", yaxis=\"Layer\", zmax=1, zmin=-1, x= [f\"{tok}_{i}\" for i, tok in enumerate(model.to_str_tokens(clean_tokens[0][0:9]))])"
   ]
  },
  {
   "attachments": {},
   "cell_type": "markdown",
   "metadata": {},
   "source": [
    "# Attribution patching"
   ]
  },
  {
   "cell_type": "code",
   "execution_count": 44,
   "metadata": {},
   "outputs": [],
   "source": [
    "# Import stuff\n",
    "import torch\n",
    "import torch.nn as nn\n",
    "import torch.nn.functional as F\n",
    "import torch.optim as optim\n",
    "import numpy as np\n",
    "import einops\n",
    "from fancy_einsum import einsum\n",
    "import tqdm.notebook as tqdm\n",
    "import random\n",
    "from pathlib import Path\n",
    "import plotly.express as px\n",
    "from torch.utils.data import DataLoader\n",
    "\n",
    "from torchtyping import TensorType as TT\n",
    "from typing import List, Union, Optional, Callable\n",
    "from functools import partial\n",
    "import copy\n",
    "import itertools\n",
    "import json\n",
    "\n",
    "from transformers import AutoModelForCausalLM, AutoConfig, AutoTokenizer\n",
    "import dataclasses\n",
    "import datasets\n",
    "from IPython.display import HTML, Markdown\n",
    "\n",
    "import transformer_lens\n",
    "import transformer_lens.utils as utils\n",
    "from transformer_lens.hook_points import (\n",
    "    HookedRootModule,\n",
    "    HookPoint,\n",
    ")  # Hooking utilities\n",
    "from transformer_lens import HookedTransformer, HookedTransformerConfig, FactoredMatrix, ActivationCache\n",
    "\n",
    "from neel_plotly import line, imshow, scatter\n",
    "import transformer_lens.patching as patching"
   ]
  },
  {
   "cell_type": "code",
   "execution_count": 45,
   "metadata": {},
   "outputs": [
    {
     "name": "stderr",
     "output_type": "stream",
     "text": [
      "Using pad_token, but it is not set yet.\n"
     ]
    },
    {
     "name": "stdout",
     "output_type": "stream",
     "text": [
      "Loaded pretrained model gpt2-small into HookedTransformer\n"
     ]
    }
   ],
   "source": [
    "Metric = Callable[[TT[\"batch_and_pos_dims\", \"d_model\"]], float]\n",
    "model = HookedTransformer.from_pretrained(\"gpt2-small\")\n",
    "model.set_use_attn_result(True)"
   ]
  },
  {
   "cell_type": "code",
   "execution_count": 67,
   "metadata": {},
   "outputs": [
    {
     "data": {
      "text/plain": [
       "tensor([[50256,   464,  1110,   318,  6016,   475,   262,  1755,   318, 50256],\n",
       "        [50256,   464,  3931,   318,  3024,   475,   262,  7374,   318, 50256],\n",
       "        [50256,   464,  5373,   318,  6029,   475,   262,  7433,   318, 50256],\n",
       "        [50256,   464,  2046,   318,  5814,   475,   262,   266,  1436,   318],\n",
       "        [50256,   464,  1175,   318,  2089,   475,   262,  4167,   318, 50256],\n",
       "        [50256,   464,   582,   318,  1913,   475,   262,  2415,   318, 50256],\n",
       "        [50256,   464,  5822,   318,   922,   475,   262, 16599,   318, 50256]])"
      ]
     },
     "execution_count": 67,
     "metadata": {},
     "output_type": "execute_result"
    }
   ],
   "source": [
    "model.to_tokens(l1)"
   ]
  },
  {
   "cell_type": "code",
   "execution_count": 68,
   "metadata": {},
   "outputs": [
    {
     "ename": "RuntimeError",
     "evalue": "Size does not match at dimension 0 expected index [7, 1] to be smaller than self [1, 50257] apart from dimension 1",
     "output_type": "error",
     "traceback": [
      "\u001b[0;31m---------------------------------------------------------------------------\u001b[0m",
      "\u001b[0;31mRuntimeError\u001b[0m                              Traceback (most recent call last)",
      "Cell \u001b[0;32mIn[68], line 19\u001b[0m\n\u001b[1;32m     16\u001b[0m     model\u001b[39m.\u001b[39mreset_hooks()\n\u001b[1;32m     17\u001b[0m     \u001b[39mreturn\u001b[39;00m value\u001b[39m.\u001b[39mitem(), ActivationCache(cache, model), ActivationCache(grad_cache, model)\n\u001b[0;32m---> 19\u001b[0m clean_value, clean_cache, clean_grad_cache \u001b[39m=\u001b[39m get_cache_fwd_and_bwd(model, clean_tokens[\u001b[39m0\u001b[39;49m], sb_metric)\n\u001b[1;32m     20\u001b[0m \u001b[39mprint\u001b[39m(\u001b[39m\"\u001b[39m\u001b[39mClean Value:\u001b[39m\u001b[39m\"\u001b[39m, clean_value)\n\u001b[1;32m     21\u001b[0m \u001b[39mprint\u001b[39m(\u001b[39m\"\u001b[39m\u001b[39mClean Activations Cached:\u001b[39m\u001b[39m\"\u001b[39m, \u001b[39mlen\u001b[39m(clean_cache))\n",
      "Cell \u001b[0;32mIn[68], line 14\u001b[0m, in \u001b[0;36mget_cache_fwd_and_bwd\u001b[0;34m(model, tokens, metric)\u001b[0m\n\u001b[1;32m     11\u001b[0m     grad_cache[hook\u001b[39m.\u001b[39mname] \u001b[39m=\u001b[39m act\u001b[39m.\u001b[39mdetach()\n\u001b[1;32m     12\u001b[0m model\u001b[39m.\u001b[39madd_hook(filter_not_qkv_input, backward_cache_hook, \u001b[39m\"\u001b[39m\u001b[39mbwd\u001b[39m\u001b[39m\"\u001b[39m)\n\u001b[0;32m---> 14\u001b[0m value \u001b[39m=\u001b[39m metric(model(tokens))\n\u001b[1;32m     15\u001b[0m value\u001b[39m.\u001b[39mbackward()\n\u001b[1;32m     16\u001b[0m model\u001b[39m.\u001b[39mreset_hooks()\n",
      "Cell \u001b[0;32mIn[22], line 4\u001b[0m, in \u001b[0;36msb_metric\u001b[0;34m(logits, answer_token_indices)\u001b[0m\n\u001b[1;32m      3\u001b[0m \u001b[39mdef\u001b[39;00m \u001b[39msb_metric\u001b[39m(logits, answer_token_indices\u001b[39m=\u001b[39manswer_token_indices):\n\u001b[0;32m----> 4\u001b[0m     \u001b[39mreturn\u001b[39;00m (get_logit_diff(logits, answer_token_indices) \u001b[39m-\u001b[39m CORRUPTED_BASELINE) \u001b[39m/\u001b[39m (CLEAN_BASELINE  \u001b[39m-\u001b[39m CORRUPTED_BASELINE)\n",
      "Cell \u001b[0;32mIn[21], line 13\u001b[0m, in \u001b[0;36mget_logit_diff\u001b[0;34m(logits, answer_token_indices)\u001b[0m\n\u001b[1;32m     10\u001b[0m \u001b[39mif\u001b[39;00m \u001b[39mlen\u001b[39m(logits\u001b[39m.\u001b[39mshape)\u001b[39m==\u001b[39m\u001b[39m3\u001b[39m:\n\u001b[1;32m     11\u001b[0m     \u001b[39m# Get final logits only\u001b[39;00m\n\u001b[1;32m     12\u001b[0m     logits \u001b[39m=\u001b[39m logits[:, \u001b[39m-\u001b[39m\u001b[39m2\u001b[39m, :]\n\u001b[0;32m---> 13\u001b[0m correct_logits \u001b[39m=\u001b[39m logits\u001b[39m.\u001b[39;49mgather(\u001b[39m1\u001b[39;49m, answer_token_indices[:, \u001b[39m0\u001b[39;49m]\u001b[39m.\u001b[39;49munsqueeze(\u001b[39m1\u001b[39;49m))\n\u001b[1;32m     14\u001b[0m incorrect_logits \u001b[39m=\u001b[39m logits\u001b[39m.\u001b[39mgather(\u001b[39m1\u001b[39m, answer_token_indices[:, \u001b[39m1\u001b[39m]\u001b[39m.\u001b[39munsqueeze(\u001b[39m1\u001b[39m))\n\u001b[1;32m     15\u001b[0m \u001b[39mreturn\u001b[39;00m (correct_logits \u001b[39m-\u001b[39m incorrect_logits)\u001b[39m.\u001b[39mmean()\n",
      "\u001b[0;31mRuntimeError\u001b[0m: Size does not match at dimension 0 expected index [7, 1] to be smaller than self [1, 50257] apart from dimension 1"
     ]
    }
   ],
   "source": [
    "filter_not_qkv_input = lambda name: \"_input\" not in name\n",
    "def get_cache_fwd_and_bwd(model, tokens, metric):\n",
    "    model.reset_hooks()\n",
    "    cache = {}\n",
    "    def forward_cache_hook(act, hook):\n",
    "        cache[hook.name] = act.detach()\n",
    "    model.add_hook(filter_not_qkv_input, forward_cache_hook, \"fwd\")\n",
    "\n",
    "    grad_cache = {}\n",
    "    def backward_cache_hook(act, hook):\n",
    "        grad_cache[hook.name] = act.detach()\n",
    "    model.add_hook(filter_not_qkv_input, backward_cache_hook, \"bwd\")\n",
    "\n",
    "    value = metric(model(tokens),)\n",
    "    value.backward()\n",
    "    model.reset_hooks()\n",
    "    return value.item(), ActivationCache(cache, model), ActivationCache(grad_cache, model)\n",
    "\n",
    "clean_value, clean_cache, clean_grad_cache = get_cache_fwd_and_bwd(model, clean_tokens[0], sb_metric)\n",
    "print(\"Clean Value:\", clean_value)\n",
    "print(\"Clean Activations Cached:\", len(clean_cache))\n",
    "print(\"Clean Gradients Cached:\", len(clean_grad_cache))\n",
    "corrupted_value, corrupted_cache, corrupted_grad_cache = get_cache_fwd_and_bwd(model, corrupted_tokens, sb_metric)\n",
    "print(\"Corrupted Value:\", corrupted_value)\n",
    "print(\"Corrupted Activations Cached:\", len(corrupted_cache))\n",
    "print(\"Corrupted Gradients Cached:\", len(corrupted_grad_cache))"
   ]
  },
  {
   "cell_type": "code",
   "execution_count": 72,
   "metadata": {},
   "outputs": [
    {
     "data": {
      "text/plain": [
       "tensor([[ 3223,  6016],\n",
       "        [ 4692,  3024],\n",
       "        [12922,  6029],\n",
       "        [ 4692,  5814],\n",
       "        [  922,  2089],\n",
       "        [ 4939,  1913],\n",
       "        [ 2089,   922]])"
      ]
     },
     "execution_count": 72,
     "metadata": {},
     "output_type": "execute_result"
    }
   ],
   "source": [
    "answer_token_indices"
   ]
  },
  {
   "cell_type": "code",
   "execution_count": null,
   "metadata": {},
   "outputs": [],
   "source": [
    "def get_head_vector_grad_input_from_grad_cache(\n",
    "        grad_cache: ActivationCache, \n",
    "        activation_name: Literal[\"q\", \"k\", \"v\"],\n",
    "        layer: int\n",
    "    ) -> TT[\"batch\", \"pos\", \"head_index\", \"d_model\"]:\n",
    "    vector_grad = grad_cache[activation_name, layer]\n",
    "    ln_scales = grad_cache[\"scale\", layer, \"ln1\"]\n",
    "    attn_layer_object = model.blocks[layer].attn\n",
    "    if activation_name == \"q\":\n",
    "        W = attn_layer_object.W_Q\n",
    "    elif activation_name == \"k\":\n",
    "        W = attn_layer_object.W_K\n",
    "    elif activation_name == \"v\":\n",
    "        W = attn_layer_object.W_V\n",
    "    else:\n",
    "        raise ValueError(\"Invalid activation name\")\n",
    "\n",
    "    return einsum(\"batch pos head_index d_head, batch pos, head_index d_model d_head -> batch pos head_index d_model\", vector_grad, ln_scales.squeeze(-1), W)\n",
    "\n",
    "def get_stacked_head_vector_grad_input(grad_cache, activation_name: Literal[\"q\", \"k\", \"v\"]) -> TT[\"layer\", \"batch\", \"pos\", \"head_index\", \"d_model\"]:\n",
    "    return torch.stack([get_head_vector_grad_input_from_grad_cache(grad_cache, activation_name, l) for l in range(model.cfg.n_layers)], dim=0)\n",
    "\n",
    "def get_full_vector_grad_input(grad_cache) -> TT[\"qkv\", \"layer\", \"batch\", \"pos\", \"head_index\", \"d_model\"]:\n",
    "    return torch.stack([get_stacked_head_vector_grad_input(grad_cache, activation_name) for activation_name in ['q', 'k', 'v']], dim=0)\n",
    "\n",
    "def attr_patch_head_path(\n",
    "        clean_cache: ActivationCache, \n",
    "        corrupted_cache: ActivationCache, \n",
    "        corrupted_grad_cache: ActivationCache\n",
    "    ) -> TT[\"qkv\", \"dest_component\", \"src_component\", \"pos\"]:\n",
    "    \"\"\"\n",
    "    Computes the attribution patch along the path between each pair of heads.\n",
    "\n",
    "    Sets this to zero for the path from any late head to any early head\n",
    "\n",
    "    \"\"\"\n",
    "    start_labels = HEAD_NAMES\n",
    "    end_labels = HEAD_NAMES_QKV\n",
    "    full_vector_grad_input = get_full_vector_grad_input(corrupted_grad_cache)\n",
    "    clean_head_result_stack = clean_cache.stack_head_results(-1)\n",
    "    corrupted_head_result_stack = corrupted_cache.stack_head_results(-1)\n",
    "    diff_head_result = einops.rearrange(\n",
    "        clean_head_result_stack - corrupted_head_result_stack,\n",
    "        \"(layer head_index) batch pos d_model -> layer batch pos head_index d_model\",\n",
    "        layer = model.cfg.n_layers,\n",
    "        head_index = model.cfg.n_heads,\n",
    "    )\n",
    "    path_attr = einsum(\n",
    "        \"qkv layer_end batch pos head_end d_model, layer_start batch pos head_start d_model -> qkv layer_end head_end layer_start head_start pos\", \n",
    "        full_vector_grad_input, \n",
    "        diff_head_result)\n",
    "    correct_layer_order_mask = (\n",
    "        torch.arange(model.cfg.n_layers)[None, :, None, None, None, None] > \n",
    "        torch.arange(model.cfg.n_layers)[None, None, None, :, None, None]).to(path_attr.device)\n",
    "    zero = torch.zeros(1, device=path_attr.device)\n",
    "    path_attr = torch.where(correct_layer_order_mask, path_attr, zero)\n",
    "\n",
    "    path_attr = einops.rearrange(\n",
    "        path_attr,\n",
    "        \"qkv layer_end head_end layer_start head_start pos -> (layer_end head_end qkv) (layer_start head_start) pos\",\n",
    "    )\n",
    "    return path_attr, end_labels, start_labels\n",
    "\n",
    "head_path_attr, end_labels, start_labels = attr_patch_head_path(clean_cache, corrupted_cache, corrupted_grad_cache)"
   ]
  }
 ],
 "metadata": {
  "kernelspec": {
   "display_name": "Python 3",
   "language": "python",
   "name": "python3"
  },
  "language_info": {
   "codemirror_mode": {
    "name": "ipython",
    "version": 3
   },
   "file_extension": ".py",
   "mimetype": "text/x-python",
   "name": "python",
   "nbconvert_exporter": "python",
   "pygments_lexer": "ipython3",
   "version": "3.10.12"
  },
  "orig_nbformat": 4
 },
 "nbformat": 4,
 "nbformat_minor": 2
}
