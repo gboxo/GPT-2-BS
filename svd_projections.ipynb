{
 "cells": [
  {
   "cell_type": "markdown",
   "metadata": {},
   "source": [
    "## Search over OV heads for pairs of nouns adjectives"
   ]
  },
  {
   "cell_type": "code",
   "execution_count": 2,
   "metadata": {},
   "outputs": [
    {
     "name": "stdout",
     "output_type": "stream",
     "text": [
      "Running as a Jupyter notebook - intended for development only!\n"
     ]
    },
    {
     "name": "stderr",
     "output_type": "stream",
     "text": [
      "/tmp/ipykernel_111606/3645427076.py:22: DeprecationWarning: `magic(...)` is deprecated since IPython 0.13 (warning added in 8.1), use run_line_magic(magic_name, parameter_s).\n",
      "  ipython.magic(\"load_ext autoreload\")\n",
      "/tmp/ipykernel_111606/3645427076.py:23: DeprecationWarning: `magic(...)` is deprecated since IPython 0.13 (warning added in 8.1), use run_line_magic(magic_name, parameter_s).\n",
      "  ipython.magic(\"autoreload 2\")\n"
     ]
    }
   ],
   "source": [
    "# Janky code to do different setup when run in a Colab notebook vs VSCode\n",
    "DEBUG_MODE = False\n",
    "try:\n",
    "    import google.colab\n",
    "    print(\"Running as a Colab notebook\")\n",
    "    %pip install git+https://github.com/JayBaileyCS/TransformerLens.git # TODO: Change!\n",
    "    # Install Neel's personal plotting utils\n",
    "    %pip install git+https://github.com/neelnanda-io/neel-plotly.git\n",
    "    # Install another version of node that makes PySvelte work way faster\n",
    "    !curl -fsSL https://deb.nodesource.com/setup_16.x | sudo -E bash -; sudo apt-get install -y nodejs\n",
    "    %pip install git+https://github.com/neelnanda-io/PySvelte.git\n",
    "    # Needed for PySvelte to work, v3 came out and broke things...\n",
    "    %pip install typeguard==2.13.3\n",
    "    %pip install typing-extensions\n",
    "except:\n",
    "    IN_COLAB = False\n",
    "    print(\"Running as a Jupyter notebook - intended for development only!\")\n",
    "    from IPython import get_ipython\n",
    "\n",
    "    ipython = get_ipython()\n",
    "    # Code to automatically update the HookedTransformer code as its edited without restarting the kernel\n",
    "    ipython.magic(\"load_ext autoreload\")\n",
    "    ipython.magic(\"autoreload 2\")"
   ]
  },
  {
   "cell_type": "code",
   "execution_count": 3,
   "metadata": {},
   "outputs": [
    {
     "name": "stdout",
     "output_type": "stream",
     "text": [
      "device = 'cpu'\n"
     ]
    }
   ],
   "source": [
    "# Plotly needs a different renderer for VSCode/Notebooks vs Colab argh\n",
    "import plotly.io as pio\n",
    "pio.renderers.default = \"png\"\n",
    "from transformer_lens import HookedTransformer, SVDInterpreter\n",
    "import numpy as np\n",
    "import torch\n",
    "import pysvelte\n",
    "device = \"cuda\" if torch.cuda.is_available() else \"cpu\"\n",
    "print(f\"{device = }\")"
   ]
  },
  {
   "cell_type": "code",
   "execution_count": 4,
   "metadata": {},
   "outputs": [
    {
     "name": "stderr",
     "output_type": "stream",
     "text": [
      "Using pad_token, but it is not set yet.\n"
     ]
    },
    {
     "name": "stdout",
     "output_type": "stream",
     "text": [
      "Loaded pretrained model gpt2-small into HookedTransformer\n"
     ]
    }
   ],
   "source": [
    "model = HookedTransformer.from_pretrained(\"gpt2-small\", fold_ln=False, center_writing_weights=False, center_unembed=False)\n",
    "all_tokens = [model.to_str_tokens(np.array([i])) for i in range(model.cfg.d_vocab)]\n",
    "all_tokens = [all_tokens[i][0] for i in range(model.cfg.d_vocab)]\n",
    "\n",
    "# Utility function to plot values in the same style as the Conjecture post.\n",
    "def plot_matrix(matrix, tokens, k=10, filter=\"topk\"):\n",
    "  return pysvelte.TopKTable(tokens=all_tokens, activations=matrix, obj_type=\"SVD direction\", k=k, filter=filter)\n",
    "\n",
    "svd_interpreter = SVDInterpreter(model)\n"
   ]
  },
  {
   "cell_type": "markdown",
   "metadata": {},
   "source": [
    "### Get the heatmaps and store them in files\n"
   ]
  },
  {
   "cell_type": "code",
   "execution_count": 17,
   "metadata": {},
   "outputs": [
    {
     "name": "stderr",
     "output_type": "stream",
     "text": [
      "/home/gerard/.local/lib/python3.10/site-packages/pysvelte/svelte/src/TopKTable.py:59: UserWarning:\n",
      "\n",
      "To copy construct from a tensor, it is recommended to use sourceTensor.clone().detach() or sourceTensor.clone().detach().requires_grad_(True), rather than torch.tensor(sourceTensor).\n",
      "\n"
     ]
    }
   ],
   "source": [
    "for i in range(12):\n",
    "    for j in range(12):\n",
    "        with open(f\"OV_projections/Layer{i}Head{j}.html\",\"w\") as f:\n",
    "            ov = svd_interpreter.get_singular_vectors('OV', layer_index=i,head_index=j)\n",
    "            a=plot_matrix(ov, all_tokens)\n",
    "            b=a.html_page_str()\n",
    "            f.write(b)"
   ]
  },
  {
   "cell_type": "markdown",
   "metadata": {},
   "source": [
    "### Get the heatmaps and store them in files\n"
   ]
  },
  {
   "cell_type": "code",
   "execution_count": 18,
   "metadata": {},
   "outputs": [
    {
     "name": "stderr",
     "output_type": "stream",
     "text": [
      "/home/gerard/.local/lib/python3.10/site-packages/pysvelte/svelte/src/TopKTable.py:59: UserWarning:\n",
      "\n",
      "To copy construct from a tensor, it is recommended to use sourceTensor.clone().detach() or sourceTensor.clone().detach().requires_grad_(True), rather than torch.tensor(sourceTensor).\n",
      "\n"
     ]
    }
   ],
   "source": [
    "for i in range(12):\n",
    "    with open(f\"W_in_projections/Layer{i}.html\",\"w\") as f:\n",
    "        w_in = svd_interpreter.get_singular_vectors('w_in', layer_index=i)\n",
    "        a=plot_matrix(w_in, all_tokens)\n",
    "        b=a.html_page_str()\n",
    "        f.write(b)"
   ]
  },
  {
   "cell_type": "markdown",
   "metadata": {},
   "source": [
    "### Get the heatmaps and store them in files\n"
   ]
  },
  {
   "cell_type": "code",
   "execution_count": 19,
   "metadata": {},
   "outputs": [],
   "source": [
    "for i in range(12):\n",
    "    with open(f\"W_out_projections/Layer{i}.html\",\"w\") as f:\n",
    "        w_out = svd_interpreter.get_singular_vectors('w_out', layer_index=i)\n",
    "        a=plot_matrix(w_out, all_tokens)\n",
    "        b=a.html_page_str()\n",
    "        f.write(b)"
   ]
  }
 ],
 "metadata": {
  "kernelspec": {
   "display_name": "Python 3",
   "language": "python",
   "name": "python3"
  },
  "language_info": {
   "codemirror_mode": {
    "name": "ipython",
    "version": 3
   },
   "file_extension": ".py",
   "mimetype": "text/x-python",
   "name": "python",
   "nbconvert_exporter": "python",
   "pygments_lexer": "ipython3",
   "version": "3.10.12"
  },
  "orig_nbformat": 4
 },
 "nbformat": 4,
 "nbformat_minor": 2
}
