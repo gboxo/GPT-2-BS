{
 "cells": [
  {
   "attachments": {},
   "cell_type": "markdown",
   "metadata": {},
   "source": []
  },
  {
   "cell_type": "code",
   "execution_count": 14,
   "metadata": {},
   "outputs": [],
   "source": [
    "import numpy as np\n",
    "from doubleml.datasets import fetch_bonus\n",
    "# Load bonus data\n",
    "df_bonus = fetch_bonus('DataFrame')\n",
    "np.random.seed(3141)\n",
    "n_obs = 500\n",
    "n_vars = 100\n",
    "theta = 3\n",
    "X = np.random.normal(size=(n_obs, n_vars))\n",
    "d = np.dot(X[:, :3], np.array([5, 5, 5])) + np.random.standard_normal(size=(n_obs,))\n",
    "y = theta * d + np.dot(X[:, :3], np.array([5, 5, 5])) + np.random.standard_normal(size=(n_obs,))\n",
    "\n",
    "\n"
   ]
  },
  {
   "cell_type": "code",
   "execution_count": 11,
   "metadata": {},
   "outputs": [
    {
     "name": "stdout",
     "output_type": "stream",
     "text": [
      "-0.1810218929047634\n"
     ]
    }
   ],
   "source": [
    "from numpy.random import binomial,normal,seed\n",
    "from numpy import mean\n",
    "seed(1234)\n",
    "n=10000\n",
    "treatment=binomial(1,0.5,size=n)\n",
    "outcome=binomial(1,0.3,size=n)*treatment+binomial(1,0.5,size=n)*(1-treatment)\n",
    "condition_prob_diff=mean(outcome[treatment==1])-mean(outcome[treatment==0])\n",
    "print(condition_prob_diff)"
   ]
  }
 ],
 "metadata": {
  "kernelspec": {
   "display_name": "Python 3",
   "language": "python",
   "name": "python3"
  },
  "language_info": {
   "codemirror_mode": {
    "name": "ipython",
    "version": 3
   },
   "file_extension": ".py",
   "mimetype": "text/x-python",
   "name": "python",
   "nbconvert_exporter": "python",
   "pygments_lexer": "ipython3",
   "version": "3.8.10"
  },
  "orig_nbformat": 4
 },
 "nbformat": 4,
 "nbformat_minor": 2
}
